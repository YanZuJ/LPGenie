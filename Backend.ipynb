{
 "cells": [
  {
   "cell_type": "code",
   "execution_count": 9,
   "id": "186eaf7a",
   "metadata": {},
   "outputs": [],
   "source": [
    "using JuMP\n",
    "import Gurobi\n",
    "using CSV, DataFrames\n",
    "using Random\n",
    "import Test"
   ]
  },
  {
   "cell_type": "code",
   "execution_count": 8,
   "id": "7e365391",
   "metadata": {},
   "outputs": [
    {
     "data": {
      "text/html": [
       "<div><div style = \"float: left;\"><span>12×5 DataFrame</span></div><div style = \"clear: both;\"></div></div><div class = \"data-frame\" style = \"overflow-x: scroll;\"><table class = \"data-frame\" style = \"margin-bottom: 6px;\"><thead><tr class = \"header\"><th class = \"rowNumber\" style = \"font-weight: bold; text-align: right;\">Row</th><th style = \"text-align: left;\">Column1</th><th style = \"text-align: left;\">XC60_Gent</th><th style = \"text-align: left;\">XC60_China</th><th style = \"text-align: left;\">Kuga</th><th style = \"text-align: left;\">Mondeo</th></tr><tr class = \"subheader headerLastRow\"><th class = \"rowNumber\" style = \"font-weight: bold; text-align: right;\"></th><th title = \"String15\" style = \"text-align: left;\">String15</th><th title = \"Int64\" style = \"text-align: left;\">Int64</th><th title = \"Int64\" style = \"text-align: left;\">Int64</th><th title = \"Int64\" style = \"text-align: left;\">Int64</th><th title = \"Int64\" style = \"text-align: left;\">Int64</th></tr></thead><tbody><tr><td class = \"rowNumber\" style = \"font-weight: bold; text-align: right;\">1</td><td style = \"text-align: left;\">1/1/2024</td><td style = \"text-align: right;\">5668</td><td style = \"text-align: right;\">5952</td><td style = \"text-align: right;\">2012</td><td style = \"text-align: right;\">924</td></tr><tr><td class = \"rowNumber\" style = \"font-weight: bold; text-align: right;\">2</td><td style = \"text-align: left;\">1/2/2024</td><td style = \"text-align: right;\">3916</td><td style = \"text-align: right;\">3744</td><td style = \"text-align: right;\">2128</td><td style = \"text-align: right;\">800</td></tr><tr><td class = \"rowNumber\" style = \"font-weight: bold; text-align: right;\">3</td><td style = \"text-align: left;\">1/3/2024</td><td style = \"text-align: right;\">5312</td><td style = \"text-align: right;\">1552</td><td style = \"text-align: right;\">2632</td><td style = \"text-align: right;\">964</td></tr><tr><td class = \"rowNumber\" style = \"font-weight: bold; text-align: right;\">4</td><td style = \"text-align: left;\">1/4/2024</td><td style = \"text-align: right;\">6720</td><td style = \"text-align: right;\">3032</td><td style = \"text-align: right;\">1740</td><td style = \"text-align: right;\">768</td></tr><tr><td class = \"rowNumber\" style = \"font-weight: bold; text-align: right;\">5</td><td style = \"text-align: left;\">1/5/2024</td><td style = \"text-align: right;\">4092</td><td style = \"text-align: right;\">2372</td><td style = \"text-align: right;\">1540</td><td style = \"text-align: right;\">648</td></tr><tr><td class = \"rowNumber\" style = \"font-weight: bold; text-align: right;\">6</td><td style = \"text-align: left;\">1/6/2024</td><td style = \"text-align: right;\">3108</td><td style = \"text-align: right;\">2292</td><td style = \"text-align: right;\">2292</td><td style = \"text-align: right;\">848</td></tr><tr><td class = \"rowNumber\" style = \"font-weight: bold; text-align: right;\">7</td><td style = \"text-align: left;\">1/7/2024</td><td style = \"text-align: right;\">4656</td><td style = \"text-align: right;\">1568</td><td style = \"text-align: right;\">2920</td><td style = \"text-align: right;\">828</td></tr><tr><td class = \"rowNumber\" style = \"font-weight: bold; text-align: right;\">8</td><td style = \"text-align: left;\">1/8/2024</td><td style = \"text-align: right;\">4772</td><td style = \"text-align: right;\">612</td><td style = \"text-align: right;\">3256</td><td style = \"text-align: right;\">764</td></tr><tr><td class = \"rowNumber\" style = \"font-weight: bold; text-align: right;\">9</td><td style = \"text-align: left;\">1/9/2024</td><td style = \"text-align: right;\">3408</td><td style = \"text-align: right;\">3988</td><td style = \"text-align: right;\">2288</td><td style = \"text-align: right;\">720</td></tr><tr><td class = \"rowNumber\" style = \"font-weight: bold; text-align: right;\">10</td><td style = \"text-align: left;\">1/10/2024</td><td style = \"text-align: right;\">2936</td><td style = \"text-align: right;\">2540</td><td style = \"text-align: right;\">2424</td><td style = \"text-align: right;\">448</td></tr><tr><td class = \"rowNumber\" style = \"font-weight: bold; text-align: right;\">11</td><td style = \"text-align: left;\">1/11/2024</td><td style = \"text-align: right;\">8284</td><td style = \"text-align: right;\">6680</td><td style = \"text-align: right;\">2228</td><td style = \"text-align: right;\">700</td></tr><tr><td class = \"rowNumber\" style = \"font-weight: bold; text-align: right;\">12</td><td style = \"text-align: left;\">1/12/2024</td><td style = \"text-align: right;\">4516</td><td style = \"text-align: right;\">3260</td><td style = \"text-align: right;\">2660</td><td style = \"text-align: right;\">568</td></tr></tbody></table></div>"
      ],
      "text/latex": [
       "\\begin{tabular}{r|ccccc}\n",
       "\t& Column1 & XC60\\_Gent & XC60\\_China & Kuga & Mondeo\\\\\n",
       "\t\\hline\n",
       "\t& String15 & Int64 & Int64 & Int64 & Int64\\\\\n",
       "\t\\hline\n",
       "\t1 & 1/1/2024 & 5668 & 5952 & 2012 & 924 \\\\\n",
       "\t2 & 1/2/2024 & 3916 & 3744 & 2128 & 800 \\\\\n",
       "\t3 & 1/3/2024 & 5312 & 1552 & 2632 & 964 \\\\\n",
       "\t4 & 1/4/2024 & 6720 & 3032 & 1740 & 768 \\\\\n",
       "\t5 & 1/5/2024 & 4092 & 2372 & 1540 & 648 \\\\\n",
       "\t6 & 1/6/2024 & 3108 & 2292 & 2292 & 848 \\\\\n",
       "\t7 & 1/7/2024 & 4656 & 1568 & 2920 & 828 \\\\\n",
       "\t8 & 1/8/2024 & 4772 & 612 & 3256 & 764 \\\\\n",
       "\t9 & 1/9/2024 & 3408 & 3988 & 2288 & 720 \\\\\n",
       "\t10 & 1/10/2024 & 2936 & 2540 & 2424 & 448 \\\\\n",
       "\t11 & 1/11/2024 & 8284 & 6680 & 2228 & 700 \\\\\n",
       "\t12 & 1/12/2024 & 4516 & 3260 & 2660 & 568 \\\\\n",
       "\\end{tabular}\n"
      ],
      "text/plain": [
       "\u001b[1m12×5 DataFrame\u001b[0m\n",
       "\u001b[1m Row \u001b[0m│\u001b[1m Column1   \u001b[0m\u001b[1m XC60_Gent \u001b[0m\u001b[1m XC60_China \u001b[0m\u001b[1m Kuga  \u001b[0m\u001b[1m Mondeo \u001b[0m\n",
       "     │\u001b[90m String15  \u001b[0m\u001b[90m Int64     \u001b[0m\u001b[90m Int64      \u001b[0m\u001b[90m Int64 \u001b[0m\u001b[90m Int64  \u001b[0m\n",
       "─────┼─────────────────────────────────────────────────\n",
       "   1 │ 1/1/2024        5668        5952   2012     924\n",
       "   2 │ 1/2/2024        3916        3744   2128     800\n",
       "   3 │ 1/3/2024        5312        1552   2632     964\n",
       "   4 │ 1/4/2024        6720        3032   1740     768\n",
       "   5 │ 1/5/2024        4092        2372   1540     648\n",
       "   6 │ 1/6/2024        3108        2292   2292     848\n",
       "   7 │ 1/7/2024        4656        1568   2920     828\n",
       "   8 │ 1/8/2024        4772         612   3256     764\n",
       "   9 │ 1/9/2024        3408        3988   2288     720\n",
       "  10 │ 1/10/2024       2936        2540   2424     448\n",
       "  11 │ 1/11/2024       8284        6680   2228     700\n",
       "  12 │ 1/12/2024       4516        3260   2660     568"
      ]
     },
     "execution_count": 8,
     "metadata": {},
     "output_type": "execute_result"
    }
   ],
   "source": [
    "data = CSV.read(\"RoofDummyData.csv\",DataFrame)\n",
    "data\n",
    "#nrow(data) = 24\n",
    "#ncol(data) = 5"
   ]
  },
  {
   "cell_type": "code",
   "execution_count": 16,
   "id": "41c5356a",
   "metadata": {},
   "outputs": [
    {
     "name": "stdout",
     "output_type": "stream",
     "text": [
      "[\"XC60_Gent\", \"XC60_China\", \"Kuga\", \"Mondeo\"]\n",
      "Any[[5668, 3916, 5312, 6720, 4092, 3108, 4656, 4772, 3408, 2936, 8284, 4516], [5952, 3744, 1552, 3032, 2372, 2292, 1568, 612, 3988, 2540, 6680, 3260], [2012, 2128, 2632, 1740, 1540, 2292, 2920, 3256, 2288, 2424, 2228, 2660], [924, 800, 964, 768, 648, 848, 828, 764, 720, 448, 700, 568]]\n",
      "Any[21, 22, 20, 23, 21, 21, 23, 23, 21, 22, 22, 22]\n",
      "Any[10, 10, 11, 12]\n"
     ]
    },
    {
     "data": {
      "text/plain": [
       "135.31"
      ]
     },
     "execution_count": 16,
     "metadata": {},
     "output_type": "execute_result"
    }
   ],
   "source": [
    "Random.seed!(1234) # set seed\n",
    "\n",
    "num_products_p = ncol(data) - 1  #to not include the time columnindex\n",
    "time_horizon_T = nrow(data)\n",
    "product_names = names(data)[2:end]\n",
    "println(product_names)\n",
    "\n",
    "#Initialise demand\n",
    "demand_D = [] #Initialise \n",
    "for col in 2:ncol(data) #Extract each column as a seperate array and store it\n",
    "    push!(demand_D, data[:,col])\n",
    "end\n",
    "println(demand_D)\n",
    "\n",
    "#Initialise workdays \n",
    "workdays_n = [] #Initialise \n",
    "for row in 1:time_horizon_T\n",
    "    push!(workdays_n, rand(20:23)) #push a random workday value between 20 to 23\n",
    "end\n",
    "println(workdays_n)\n",
    "\n",
    "#Initialise productivity\n",
    "productivity_K = [] \n",
    "for col in 2:ncol(data)\n",
    "    push!(productivity_K, rand(10:12))\n",
    "end    \n",
    "println(productivity_K)\n",
    "\n",
    "# Initialise Costs\n",
    "cost_hiring_cH = 5882.60    # Hiring cost per worker\n",
    "cost_firing_cF = 857.23    # Firing cost per worker\n",
    "cost_inventory_cI = 9.05 # Inventory holding cost per unit\n",
    "cost_labour_cR = 233.30  # Cost of Labour per production unit\n",
    "cost_overtime_cO = 349.89 # Cost of Overtime per overtime unit\n",
    "cost_backlogging_cB = 135.31  #Cost of Backlogging per overtime unit \n",
    "#code ends here"
   ]
  },
  {
   "cell_type": "code",
   "execution_count": 11,
   "id": "6928009c",
   "metadata": {},
   "outputs": [
    {
     "name": "stdout",
     "output_type": "stream",
     "text": [
      "Set parameter WLSAccessID\n",
      "Set parameter WLSSecret\n",
      "Set parameter LicenseID to value 2528347\n",
      "Academic license 2528347 - for non-commercial use only - registered to jo___@mymail.sutd.edu.sg\n",
      "Gurobi Optimizer version 11.0.2 build v11.0.2rc0 (win64 - Windows 11.0 (22631.2))\n",
      "\n",
      "CPU model: 11th Gen Intel(R) Core(TM) i7-1165G7 @ 2.80GHz, instruction set [SSE2|AVX|AVX2|AVX512]\n",
      "Thread count: 4 physical cores, 8 logical processors, using up to 8 threads\n",
      "\n",
      "Academic license 2528347 - for non-commercial use only - registered to jo___@mymail.sutd.edu.sg\n",
      "Optimize a model with 144 rows, 336 columns and 516 nonzeros\n",
      "Model fingerprint: 0x7f98dbf1\n",
      "Coefficient statistics:\n",
      "  Matrix range     [1e+00, 3e+02]\n",
      "  Objective range  [9e+00, 6e+03]\n",
      "  Bounds range     [0e+00, 0e+00]\n",
      "  RHS range        [4e+02, 8e+03]\n",
      "Presolve removed 56 rows and 116 columns\n",
      "Presolve time: 0.01s\n",
      "Presolved: 88 rows, 220 columns, 388 nonzeros\n",
      "\n",
      "Iteration    Objective       Primal Inf.    Dual Inf.      Time\n",
      "       0    0.0000000e+00   3.221750e+04   0.000000e+00      0s\n",
      "     133    3.0473986e+07   0.000000e+00   0.000000e+00      0s\n",
      "\n",
      "Solved in 133 iterations and 0.02 seconds (0.00 work units)\n",
      "Optimal objective  3.047398650e+07\n",
      "\n",
      "User-callback calls 193, time in user-callback 0.00 sec\n",
      "Objective value: 3.0473986497436203e7\n",
      "Workers: [27 25 25 25 19 19 19 19 23 23 23 0; 28 17 11 11 11 11 11 11 16 16 16 0; 10 10 10 8 8 8 12 12 10 10 9 0; 4 3 4 3 3 3 3 3 3 2 2 0]\n",
      "Hired: [27 0 0 0 0 0 0 0 4 0 0 0; 28 0 0 0 0 0 0 0 5 0 0 0; 10 0 0 0 0 0 4 0 0 0 0 0; 4 0 0 0 0 0 0 0 0 0 0 0]\n",
      "Fired: [0 2 0 0 5 1 0 0 0 0 0 23; 0 11 6 0 0 0 0 0 0 0 0 16; 0 0 0 2 0 0 0 0 2 0 1 9; 0 0 0 1 0 0 0 0 0 1 0 2]\n",
      "Inventory: [0 1482 1077 0 0 821 469 0 1318 3333 0 0; 0 0 624 94 7 0 934 2825 2191 3166 0 0; 245 482 0 232 492 0 168 0 13 0 0 0; 0 124 0 40 130 20 0 12 0 126 0 0]\n",
      "Production: [5668 5398 4907 5643 4092 3929 4303 4303 4726 4951 4951 0; 5952 3744 2176 2502 2285 2285 2502 2502 3355 3514 3514 0; 2257 2365 2150 1972 1800 1800 3088 3088 2301 2411 2228 0; 924 924 840 808 738 738 808 776 708 574 574 0]\n",
      "Overtime: [0 0 0 0 0 0 0 0 0 0 0 0; 0 0 0 0 0 0 0 0 0 0 0 0; 0 0 0 0 0 0 0 0 0 0 0 0; 0 0 0 0 0 0 0 0 0 0 0 0]\n",
      "Backlogging: [0 0 0 0 0 0 0 0 0 0 0 4516; 0 0 0 0 0 0 0 0 0 0 0 3260; 0 0 0 0 0 0 0 0 0 0 0 2660; 0 0 0 0 0 0 0 0 0 0 0 568]\n"
     ]
    }
   ],
   "source": [
    "# Initialize the model\n",
    "model = Model(Gurobi.Optimizer)\n",
    "\n",
    "# Variables\n",
    "@variable(model, workerlevel_W[1:num_products_p,1:time_horizon_T] >= 0)       # Workers\n",
    "@variable(model, hired_H[1:num_products_p,1:time_horizon_T] >= 0)       # Hired workers\n",
    "@variable(model, fired_F[1:num_products_p,1:time_horizon_T] >= 0)       # Fired workers\n",
    "@variable(model, inventory_I[1:num_products_p,1:time_horizon_T] >= 0)       # Inventory as integer variables\n",
    "@variable(model, production_P[1:num_products_p,1:time_horizon_T] >= 0)       # Production\n",
    "@variable(model, overtime_O[1:num_products_p,1:time_horizon_T] >= 0)       # Overtime\n",
    "@variable(model, backlogging_B[1:num_products_p,1:time_horizon_T] >= 0)        # Production\n",
    "\n",
    "# Objective function: Minimize total cost\n",
    "@objective(model, Min, sum(cost_hiring_cH*hired_H + cost_firing_cF*fired_F \n",
    "+ cost_inventory_cI*inventory_I + cost_labour_cR*production_P \n",
    "+ cost_overtime_cO*overtime_O + cost_backlogging_cB*backlogging_B))\n",
    "\n",
    "# Constraints\n",
    "\n",
    "#only for period 1, W annd I-B eqns\n",
    "for p in 1:num_products_p\n",
    "    @constraint(model, workerlevel_W[p,1] == hired_H[p,1] - fired_F[p,1])\n",
    "    @constraint(model, inventory_I[p,1] - backlogging_B[p,1] == production_P[p,1] - demand_D[p][1])\n",
    "end    \n",
    "\n",
    "#P equations\n",
    "for p in 1:num_products_p\n",
    "    for t in 2:time_horizon_T\n",
    "        @constraint(model, workerlevel_W[p,t] \n",
    "        == workerlevel_W[p,t-1] + hired_H[p,t] - fired_F[p,t])\n",
    "        @constraint(model, inventory_I[p,t] - backlogging_B[p,t] \n",
    "        == inventory_I[p,t-1] - backlogging_B[p,t-1] \n",
    "        + production_P[p,t] - demand_D[p][t])\n",
    "    end\n",
    "end\n",
    "\n",
    "#for rest of period, W and I-B equations\n",
    "for p in 1:num_products_p\n",
    "    for t in 1:time_horizon_T\n",
    "        @constraint(model, production_P[p,t] \n",
    "        == productivity_K[p] * workdays_n[t] * workerlevel_W[p,t])\n",
    "    end    \n",
    "end\n",
    "\n",
    "# Solve the model\n",
    "optimize!(model)\n",
    "\n",
    "#retrieve Values\n",
    "println(\"Objective value: \", objective_value(model))\n",
    "println(\"Workers: \", round.(Int,value.(workerlevel_W)))\n",
    "println(\"Hired: \", round.(Int,value.(hired_H)))\n",
    "println(\"Fired: \", round.(Int,value.(fired_F)))\n",
    "println(\"Inventory: \", round.(Int,value.(inventory_I)))\n",
    "println(\"Production: \", round.(Int,value.(production_P)))\n",
    "println(\"Overtime: \", round.(Int,value.(overtime_O)))\n",
    "println(\"Backlogging: \", round.(Int,value.(backlogging_B)))"
   ]
  },
  {
   "cell_type": "code",
   "execution_count": null,
   "id": "87237692",
   "metadata": {},
   "outputs": [],
   "source": []
  }
 ],
 "metadata": {
  "kernelspec": {
   "display_name": "Julia 1.10.4",
   "language": "julia",
   "name": "julia-1.10"
  },
  "language_info": {
   "file_extension": ".jl",
   "mimetype": "application/julia",
   "name": "julia",
   "version": "1.10.4"
  }
 },
 "nbformat": 4,
 "nbformat_minor": 5
}
