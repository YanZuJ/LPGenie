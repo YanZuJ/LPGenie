{
 "cells": [
  {
   "cell_type": "code",
   "execution_count": 1,
   "metadata": {},
   "outputs": [
    {
     "name": "stderr",
     "output_type": "stream",
     "text": [
      "\u001b[32m\u001b[1m   Resolving\u001b[22m\u001b[39m package versions...\n",
      "\u001b[32m\u001b[1m  No Changes\u001b[22m\u001b[39m to `C:\\Users\\Joe\\OneDrive\\Documents\\GitHub\\LPGenie\\Project.toml`\n",
      "\u001b[32m\u001b[1m  No Changes\u001b[22m\u001b[39m to `C:\\Users\\Joe\\OneDrive\\Documents\\GitHub\\LPGenie\\Manifest.toml`\n"
     ]
    }
   ],
   "source": [
    "using JuMP\n",
    "import Pkg\n",
    "Pkg.add(\"Gurobi\")\n",
    "import Gurobi\n",
    "using XLSX, DataFrames\n",
    "using Random\n",
    "import Test\n",
    "\n",
    "#instead of CSV, well use XLSX to read multiple sheets\n"
   ]
  },
  {
   "cell_type": "code",
   "execution_count": 2,
   "metadata": {},
   "outputs": [
    {
     "data": {
      "text/plain": [
       "XLSXFile(\"UploadTemplate.xlsx\") containing 9 Worksheets\n",
       "            sheetname size          range        \n",
       "-------------------------------------------------\n",
       "         INSTRUCTIONS 29x2          A1:B29       \n",
       "               demand 500x17        A1:Q500      \n",
       "        workerproduct 20x63         A1:BK20      \n",
       "    initial_inventory 7x49          A1:AW7       \n",
       "       initial_worker 7x28          A1:AB7       \n",
       "        sample_demand 500x17        A1:Q500      \n",
       " sample_workerproduct 20x63         A1:BK20      \n",
       "sample_initial_inven… 7x49          A1:AW7       \n",
       "sample_initial_worke… 7x28          A1:AB7       \n"
      ]
     },
     "execution_count": 2,
     "metadata": {},
     "output_type": "execute_result"
    }
   ],
   "source": [
    "upload =  XLSX.readxlsx(\"UploadTemplate.xlsx\")\n",
    "# Instructions, and sample sheets will NOT be read\n",
    "#put this file in the same directory as the trialjoe.ipynb  "
   ]
  },
  {
   "cell_type": "code",
   "execution_count": 3,
   "metadata": {},
   "outputs": [
    {
     "data": {
      "text/html": [
       "<div><div style = \"float: left;\"><span>24×5 DataFrame</span></div><div style = \"clear: both;\"></div></div><div class = \"data-frame\" style = \"overflow-x: scroll;\"><table class = \"data-frame\" style = \"margin-bottom: 6px;\"><thead><tr class = \"header\"><th class = \"rowNumber\" style = \"font-weight: bold; text-align: right;\">Row</th><th style = \"text-align: left;\">Date</th><th style = \"text-align: left;\">Product 1</th><th style = \"text-align: left;\">Product 2</th><th style = \"text-align: left;\">Product 3</th><th style = \"text-align: left;\">Product 4</th></tr><tr class = \"subheader headerLastRow\"><th class = \"rowNumber\" style = \"font-weight: bold; text-align: right;\"></th><th title = \"Any\" style = \"text-align: left;\">Any</th><th title = \"Any\" style = \"text-align: left;\">Any</th><th title = \"Any\" style = \"text-align: left;\">Any</th><th title = \"Any\" style = \"text-align: left;\">Any</th><th title = \"Any\" style = \"text-align: left;\">Any</th></tr></thead><tbody><tr><td class = \"rowNumber\" style = \"font-weight: bold; text-align: right;\">1</td><td style = \"text-align: left;\">2024-01-01</td><td style = \"text-align: left;\">4780</td><td style = \"text-align: left;\">2612</td><td style = \"text-align: left;\">1428</td><td style = \"text-align: left;\">860</td></tr><tr><td class = \"rowNumber\" style = \"font-weight: bold; text-align: right;\">2</td><td style = \"text-align: left;\">2024-02-01</td><td style = \"text-align: left;\">4736</td><td style = \"text-align: left;\">5232</td><td style = \"text-align: left;\">1820</td><td style = \"text-align: left;\">828</td></tr><tr><td class = \"rowNumber\" style = \"font-weight: bold; text-align: right;\">3</td><td style = \"text-align: left;\">2024-03-01</td><td style = \"text-align: left;\">4780</td><td style = \"text-align: left;\">2332</td><td style = \"text-align: left;\">3176</td><td style = \"text-align: left;\">756</td></tr><tr><td class = \"rowNumber\" style = \"font-weight: bold; text-align: right;\">4</td><td style = \"text-align: left;\">2024-04-01</td><td style = \"text-align: left;\">7548</td><td style = \"text-align: left;\">3380</td><td style = \"text-align: left;\">2488</td><td style = \"text-align: left;\">832</td></tr><tr><td class = \"rowNumber\" style = \"font-weight: bold; text-align: right;\">5</td><td style = \"text-align: left;\">2024-05-01</td><td style = \"text-align: left;\">6312</td><td style = \"text-align: left;\">4240</td><td style = \"text-align: left;\">2368</td><td style = \"text-align: left;\">660</td></tr><tr><td class = \"rowNumber\" style = \"font-weight: bold; text-align: right;\">6</td><td style = \"text-align: left;\">2024-06-01</td><td style = \"text-align: left;\">3324</td><td style = \"text-align: left;\">2252</td><td style = \"text-align: left;\">2916</td><td style = \"text-align: left;\">948</td></tr><tr><td class = \"rowNumber\" style = \"font-weight: bold; text-align: right;\">7</td><td style = \"text-align: left;\">2024-07-01</td><td style = \"text-align: left;\">5420</td><td style = \"text-align: left;\">384</td><td style = \"text-align: left;\">1616</td><td style = \"text-align: left;\">616</td></tr><tr><td class = \"rowNumber\" style = \"font-weight: bold; text-align: right;\">8</td><td style = \"text-align: left;\">2024-08-01</td><td style = \"text-align: left;\">6064</td><td style = \"text-align: left;\">2040</td><td style = \"text-align: left;\">2496</td><td style = \"text-align: left;\">536</td></tr><tr><td class = \"rowNumber\" style = \"font-weight: bold; text-align: right;\">9</td><td style = \"text-align: left;\">2024-09-01</td><td style = \"text-align: left;\">7604</td><td style = \"text-align: left;\">4776</td><td style = \"text-align: left;\">1908</td><td style = \"text-align: left;\">696</td></tr><tr><td class = \"rowNumber\" style = \"font-weight: bold; text-align: right;\">10</td><td style = \"text-align: left;\">2024-10-01</td><td style = \"text-align: left;\">5684</td><td style = \"text-align: left;\">3068</td><td style = \"text-align: left;\">1548</td><td style = \"text-align: left;\">764</td></tr><tr><td class = \"rowNumber\" style = \"font-weight: bold; text-align: right;\">11</td><td style = \"text-align: left;\">2024-11-01</td><td style = \"text-align: left;\">4436</td><td style = \"text-align: left;\">4484</td><td style = \"text-align: left;\">2592</td><td style = \"text-align: left;\">256</td></tr><tr><td class = \"rowNumber\" style = \"font-weight: bold; text-align: right;\">12</td><td style = \"text-align: left;\">2024-12-01</td><td style = \"text-align: left;\">7068</td><td style = \"text-align: left;\">3140</td><td style = \"text-align: left;\">1460</td><td style = \"text-align: left;\">984</td></tr><tr><td class = \"rowNumber\" style = \"font-weight: bold; text-align: right;\">13</td><td style = \"text-align: left;\">2025-01-01</td><td style = \"text-align: left;\">6480</td><td style = \"text-align: left;\">1332</td><td style = \"text-align: left;\">1532</td><td style = \"text-align: left;\">880</td></tr><tr><td class = \"rowNumber\" style = \"font-weight: bold; text-align: right;\">14</td><td style = \"text-align: left;\">2025-02-01</td><td style = \"text-align: left;\">6776</td><td style = \"text-align: left;\">1284</td><td style = \"text-align: left;\">2456</td><td style = \"text-align: left;\">708</td></tr><tr><td class = \"rowNumber\" style = \"font-weight: bold; text-align: right;\">15</td><td style = \"text-align: left;\">2025-03-01</td><td style = \"text-align: left;\">2648</td><td style = \"text-align: left;\">3544</td><td style = \"text-align: left;\">2300</td><td style = \"text-align: left;\">692</td></tr><tr><td class = \"rowNumber\" style = \"font-weight: bold; text-align: right;\">16</td><td style = \"text-align: left;\">2025-04-01</td><td style = \"text-align: left;\">2960</td><td style = \"text-align: left;\">0</td><td style = \"text-align: left;\">3596</td><td style = \"text-align: left;\">816</td></tr><tr><td class = \"rowNumber\" style = \"font-weight: bold; text-align: right;\">17</td><td style = \"text-align: left;\">2025-05-01</td><td style = \"text-align: left;\">6468</td><td style = \"text-align: left;\">2472</td><td style = \"text-align: left;\">2888</td><td style = \"text-align: left;\">780</td></tr><tr><td class = \"rowNumber\" style = \"font-weight: bold; text-align: right;\">18</td><td style = \"text-align: left;\">2025-06-01</td><td style = \"text-align: left;\">3312</td><td style = \"text-align: left;\">284</td><td style = \"text-align: left;\">2696</td><td style = \"text-align: left;\">784</td></tr><tr><td class = \"rowNumber\" style = \"font-weight: bold; text-align: right;\">19</td><td style = \"text-align: left;\">2025-07-01</td><td style = \"text-align: left;\">7868</td><td style = \"text-align: left;\">2968</td><td style = \"text-align: left;\">3724</td><td style = \"text-align: left;\">672</td></tr><tr><td class = \"rowNumber\" style = \"font-weight: bold; text-align: right;\">20</td><td style = \"text-align: left;\">2025-08-01</td><td style = \"text-align: left;\">6520</td><td style = \"text-align: left;\">3524</td><td style = \"text-align: left;\">2060</td><td style = \"text-align: left;\">544</td></tr><tr><td class = \"rowNumber\" style = \"font-weight: bold; text-align: right;\">21</td><td style = \"text-align: left;\">2025-09-01</td><td style = \"text-align: left;\">5100</td><td style = \"text-align: left;\">908</td><td style = \"text-align: left;\">2020</td><td style = \"text-align: left;\">708</td></tr><tr><td class = \"rowNumber\" style = \"font-weight: bold; text-align: right;\">22</td><td style = \"text-align: left;\">2025-10-01</td><td style = \"text-align: left;\">4192</td><td style = \"text-align: left;\">3912</td><td style = \"text-align: left;\">3008</td><td style = \"text-align: left;\">768</td></tr><tr><td class = \"rowNumber\" style = \"font-weight: bold; text-align: right;\">23</td><td style = \"text-align: left;\">2025-11-01</td><td style = \"text-align: left;\">4432</td><td style = \"text-align: left;\">5120</td><td style = \"text-align: left;\">2080</td><td style = \"text-align: left;\">904</td></tr><tr><td class = \"rowNumber\" style = \"font-weight: bold; text-align: right;\">24</td><td style = \"text-align: left;\">2025-12-01</td><td style = \"text-align: left;\">2132</td><td style = \"text-align: left;\">4044</td><td style = \"text-align: left;\">1656</td><td style = \"text-align: left;\">636</td></tr></tbody></table></div>"
      ],
      "text/latex": [
       "\\begin{tabular}{r|ccccc}\n",
       "\t& Date & Product 1 & Product 2 & Product 3 & Product 4\\\\\n",
       "\t\\hline\n",
       "\t& Any & Any & Any & Any & Any\\\\\n",
       "\t\\hline\n",
       "\t1 & 2024-01-01 & 4780 & 2612 & 1428 & 860 \\\\\n",
       "\t2 & 2024-02-01 & 4736 & 5232 & 1820 & 828 \\\\\n",
       "\t3 & 2024-03-01 & 4780 & 2332 & 3176 & 756 \\\\\n",
       "\t4 & 2024-04-01 & 7548 & 3380 & 2488 & 832 \\\\\n",
       "\t5 & 2024-05-01 & 6312 & 4240 & 2368 & 660 \\\\\n",
       "\t6 & 2024-06-01 & 3324 & 2252 & 2916 & 948 \\\\\n",
       "\t7 & 2024-07-01 & 5420 & 384 & 1616 & 616 \\\\\n",
       "\t8 & 2024-08-01 & 6064 & 2040 & 2496 & 536 \\\\\n",
       "\t9 & 2024-09-01 & 7604 & 4776 & 1908 & 696 \\\\\n",
       "\t10 & 2024-10-01 & 5684 & 3068 & 1548 & 764 \\\\\n",
       "\t11 & 2024-11-01 & 4436 & 4484 & 2592 & 256 \\\\\n",
       "\t12 & 2024-12-01 & 7068 & 3140 & 1460 & 984 \\\\\n",
       "\t13 & 2025-01-01 & 6480 & 1332 & 1532 & 880 \\\\\n",
       "\t14 & 2025-02-01 & 6776 & 1284 & 2456 & 708 \\\\\n",
       "\t15 & 2025-03-01 & 2648 & 3544 & 2300 & 692 \\\\\n",
       "\t16 & 2025-04-01 & 2960 & 0 & 3596 & 816 \\\\\n",
       "\t17 & 2025-05-01 & 6468 & 2472 & 2888 & 780 \\\\\n",
       "\t18 & 2025-06-01 & 3312 & 284 & 2696 & 784 \\\\\n",
       "\t19 & 2025-07-01 & 7868 & 2968 & 3724 & 672 \\\\\n",
       "\t20 & 2025-08-01 & 6520 & 3524 & 2060 & 544 \\\\\n",
       "\t21 & 2025-09-01 & 5100 & 908 & 2020 & 708 \\\\\n",
       "\t22 & 2025-10-01 & 4192 & 3912 & 3008 & 768 \\\\\n",
       "\t23 & 2025-11-01 & 4432 & 5120 & 2080 & 904 \\\\\n",
       "\t24 & 2025-12-01 & 2132 & 4044 & 1656 & 636 \\\\\n",
       "\\end{tabular}\n"
      ],
      "text/plain": [
       "\u001b[1m24×5 DataFrame\u001b[0m\n",
       "\u001b[1m Row \u001b[0m│\u001b[1m Date       \u001b[0m\u001b[1m Product 1 \u001b[0m\u001b[1m Product 2 \u001b[0m\u001b[1m Product 3 \u001b[0m\u001b[1m Product 4 \u001b[0m\n",
       "     │\u001b[90m Any        \u001b[0m\u001b[90m Any       \u001b[0m\u001b[90m Any       \u001b[0m\u001b[90m Any       \u001b[0m\u001b[90m Any       \u001b[0m\n",
       "─────┼────────────────────────────────────────────────────────\n",
       "   1 │ 2024-01-01  4780       2612       1428       860\n",
       "   2 │ 2024-02-01  4736       5232       1820       828\n",
       "   3 │ 2024-03-01  4780       2332       3176       756\n",
       "   4 │ 2024-04-01  7548       3380       2488       832\n",
       "   5 │ 2024-05-01  6312       4240       2368       660\n",
       "   6 │ 2024-06-01  3324       2252       2916       948\n",
       "   7 │ 2024-07-01  5420       384        1616       616\n",
       "   8 │ 2024-08-01  6064       2040       2496       536\n",
       "   9 │ 2024-09-01  7604       4776       1908       696\n",
       "  10 │ 2024-10-01  5684       3068       1548       764\n",
       "  11 │ 2024-11-01  4436       4484       2592       256\n",
       "  ⋮  │     ⋮           ⋮          ⋮          ⋮          ⋮\n",
       "  15 │ 2025-03-01  2648       3544       2300       692\n",
       "  16 │ 2025-04-01  2960       0          3596       816\n",
       "  17 │ 2025-05-01  6468       2472       2888       780\n",
       "  18 │ 2025-06-01  3312       284        2696       784\n",
       "  19 │ 2025-07-01  7868       2968       3724       672\n",
       "  20 │ 2025-08-01  6520       3524       2060       544\n",
       "  21 │ 2025-09-01  5100       908        2020       708\n",
       "  22 │ 2025-10-01  4192       3912       3008       768\n",
       "  23 │ 2025-11-01  4432       5120       2080       904\n",
       "  24 │ 2025-12-01  2132       4044       1656       636\n",
       "\u001b[36m                                                3 rows omitted\u001b[0m"
      ]
     },
     "execution_count": 3,
     "metadata": {},
     "output_type": "execute_result"
    }
   ],
   "source": [
    "demand_df = DataFrame(XLSX.readtable(\"UploadTemplate.xlsx\",\"demand\")) #Note to self: UploadTemplate.xlsx name in app.jl would be joinpath(FILE_PATH,filename) variable. "
   ]
  },
  {
   "cell_type": "code",
   "execution_count": 4,
   "metadata": {},
   "outputs": [
    {
     "data": {
      "text/html": [
       "<div><div style = \"float: left;\"><span>3×5 DataFrame</span></div><div style = \"clear: both;\"></div></div><div class = \"data-frame\" style = \"overflow-x: scroll;\"><table class = \"data-frame\" style = \"margin-bottom: 6px;\"><thead><tr class = \"header\"><th class = \"rowNumber\" style = \"font-weight: bold; text-align: right;\">Row</th><th style = \"text-align: left;\">Worker Type</th><th style = \"text-align: left;\">Product 1</th><th style = \"text-align: left;\">Product 2</th><th style = \"text-align: left;\">Product 3</th><th style = \"text-align: left;\">Product 4</th></tr><tr class = \"subheader headerLastRow\"><th class = \"rowNumber\" style = \"font-weight: bold; text-align: right;\"></th><th title = \"Any\" style = \"text-align: left;\">Any</th><th title = \"Any\" style = \"text-align: left;\">Any</th><th title = \"Any\" style = \"text-align: left;\">Any</th><th title = \"Any\" style = \"text-align: left;\">Any</th><th title = \"Any\" style = \"text-align: left;\">Any</th></tr></thead><tbody><tr><td class = \"rowNumber\" style = \"font-weight: bold; text-align: right;\">1</td><td style = \"text-align: left;\">workertype_1</td><td style = \"text-align: left;\">80</td><td style = \"text-align: left;\">86</td><td style = \"text-align: left;\">83</td><td style = \"text-align: left;\">90</td></tr><tr><td class = \"rowNumber\" style = \"font-weight: bold; text-align: right;\">2</td><td style = \"text-align: left;\">workertype_2</td><td style = \"text-align: left;\">136</td><td style = \"text-align: left;\">140</td><td style = \"text-align: left;\">145</td><td style = \"text-align: left;\">150</td></tr><tr><td class = \"rowNumber\" style = \"font-weight: bold; text-align: right;\">3</td><td style = \"text-align: left;\">workertype_3</td><td style = \"text-align: left;\">100</td><td style = \"text-align: left;\">102</td><td style = \"text-align: left;\">90</td><td style = \"text-align: left;\">120</td></tr></tbody></table></div>"
      ],
      "text/latex": [
       "\\begin{tabular}{r|ccccc}\n",
       "\t& Worker Type & Product 1 & Product 2 & Product 3 & Product 4\\\\\n",
       "\t\\hline\n",
       "\t& Any & Any & Any & Any & Any\\\\\n",
       "\t\\hline\n",
       "\t1 & workertype\\_1 & 80 & 86 & 83 & 90 \\\\\n",
       "\t2 & workertype\\_2 & 136 & 140 & 145 & 150 \\\\\n",
       "\t3 & workertype\\_3 & 100 & 102 & 90 & 120 \\\\\n",
       "\\end{tabular}\n"
      ],
      "text/plain": [
       "\u001b[1m3×5 DataFrame\u001b[0m\n",
       "\u001b[1m Row \u001b[0m│\u001b[1m Worker Type  \u001b[0m\u001b[1m Product 1 \u001b[0m\u001b[1m Product 2 \u001b[0m\u001b[1m Product 3 \u001b[0m\u001b[1m Product 4 \u001b[0m\n",
       "     │\u001b[90m Any          \u001b[0m\u001b[90m Any       \u001b[0m\u001b[90m Any       \u001b[0m\u001b[90m Any       \u001b[0m\u001b[90m Any       \u001b[0m\n",
       "─────┼──────────────────────────────────────────────────────────\n",
       "   1 │ workertype_1  80         86         83         90\n",
       "   2 │ workertype_2  136        140        145        150\n",
       "   3 │ workertype_3  100        102        90         120"
      ]
     },
     "execution_count": 4,
     "metadata": {},
     "output_type": "execute_result"
    }
   ],
   "source": [
    "workerproduct_df = DataFrame(XLSX.readtable(\"UploadTemplate.xlsx\",\"workerproduct\"))"
   ]
  },
  {
   "cell_type": "code",
   "execution_count": 5,
   "metadata": {},
   "outputs": [
    {
     "data": {
      "text/html": [
       "<div><div style = \"float: left;\"><span>1×4 DataFrame</span></div><div style = \"clear: both;\"></div></div><div class = \"data-frame\" style = \"overflow-x: scroll;\"><table class = \"data-frame\" style = \"margin-bottom: 6px;\"><thead><tr class = \"header\"><th class = \"rowNumber\" style = \"font-weight: bold; text-align: right;\">Row</th><th style = \"text-align: left;\">Product 1</th><th style = \"text-align: left;\">Product 2</th><th style = \"text-align: left;\">Product 3</th><th style = \"text-align: left;\">Product 4</th></tr><tr class = \"subheader headerLastRow\"><th class = \"rowNumber\" style = \"font-weight: bold; text-align: right;\"></th><th title = \"Any\" style = \"text-align: left;\">Any</th><th title = \"Any\" style = \"text-align: left;\">Any</th><th title = \"Any\" style = \"text-align: left;\">Any</th><th title = \"Any\" style = \"text-align: left;\">Any</th></tr></thead><tbody><tr><td class = \"rowNumber\" style = \"font-weight: bold; text-align: right;\">1</td><td style = \"text-align: left;\">150</td><td style = \"text-align: left;\">120</td><td style = \"text-align: left;\">30</td><td style = \"text-align: left;\">0</td></tr></tbody></table></div>"
      ],
      "text/latex": [
       "\\begin{tabular}{r|cccc}\n",
       "\t& Product 1 & Product 2 & Product 3 & Product 4\\\\\n",
       "\t\\hline\n",
       "\t& Any & Any & Any & Any\\\\\n",
       "\t\\hline\n",
       "\t1 & 150 & 120 & 30 & 0 \\\\\n",
       "\\end{tabular}\n"
      ],
      "text/plain": [
       "\u001b[1m1×4 DataFrame\u001b[0m\n",
       "\u001b[1m Row \u001b[0m│\u001b[1m Product 1 \u001b[0m\u001b[1m Product 2 \u001b[0m\u001b[1m Product 3 \u001b[0m\u001b[1m Product 4 \u001b[0m\n",
       "     │\u001b[90m Any       \u001b[0m\u001b[90m Any       \u001b[0m\u001b[90m Any       \u001b[0m\u001b[90m Any       \u001b[0m\n",
       "─────┼────────────────────────────────────────────\n",
       "   1 │ 150        120        30         0"
      ]
     },
     "execution_count": 5,
     "metadata": {},
     "output_type": "execute_result"
    }
   ],
   "source": [
    "initial_inventory_df = DataFrame(XLSX.readtable(\"UploadTemplate.xlsx\",\"initial_inventory\"))"
   ]
  },
  {
   "cell_type": "code",
   "execution_count": 6,
   "metadata": {},
   "outputs": [
    {
     "data": {
      "text/html": [
       "<div><div style = \"float: left;\"><span>1×3 DataFrame</span></div><div style = \"clear: both;\"></div></div><div class = \"data-frame\" style = \"overflow-x: scroll;\"><table class = \"data-frame\" style = \"margin-bottom: 6px;\"><thead><tr class = \"header\"><th class = \"rowNumber\" style = \"font-weight: bold; text-align: right;\">Row</th><th style = \"text-align: left;\">workertype 1</th><th style = \"text-align: left;\">workertype 2</th><th style = \"text-align: left;\">workertype 3</th></tr><tr class = \"subheader headerLastRow\"><th class = \"rowNumber\" style = \"font-weight: bold; text-align: right;\"></th><th title = \"Any\" style = \"text-align: left;\">Any</th><th title = \"Any\" style = \"text-align: left;\">Any</th><th title = \"Any\" style = \"text-align: left;\">Any</th></tr></thead><tbody><tr><td class = \"rowNumber\" style = \"font-weight: bold; text-align: right;\">1</td><td style = \"text-align: left;\">87</td><td style = \"text-align: left;\">89</td><td style = \"text-align: left;\">50</td></tr></tbody></table></div>"
      ],
      "text/latex": [
       "\\begin{tabular}{r|ccc}\n",
       "\t& workertype 1 & workertype 2 & workertype 3\\\\\n",
       "\t\\hline\n",
       "\t& Any & Any & Any\\\\\n",
       "\t\\hline\n",
       "\t1 & 87 & 89 & 50 \\\\\n",
       "\\end{tabular}\n"
      ],
      "text/plain": [
       "\u001b[1m1×3 DataFrame\u001b[0m\n",
       "\u001b[1m Row \u001b[0m│\u001b[1m workertype 1 \u001b[0m\u001b[1m workertype 2 \u001b[0m\u001b[1m workertype 3 \u001b[0m\n",
       "     │\u001b[90m Any          \u001b[0m\u001b[90m Any          \u001b[0m\u001b[90m Any          \u001b[0m\n",
       "─────┼──────────────────────────────────────────\n",
       "   1 │ 87            89            50"
      ]
     },
     "execution_count": 6,
     "metadata": {},
     "output_type": "execute_result"
    }
   ],
   "source": [
    "initial_worker_df = DataFrame(XLSX.readtable(\"UploadTemplate.xlsx\",\"initial_worker\"))"
   ]
  },
  {
   "cell_type": "code",
   "execution_count": 7,
   "metadata": {},
   "outputs": [
    {
     "name": "stdout",
     "output_type": "stream",
     "text": [
      "4\n",
      "24\n",
      "[\"2023-12-01\", \"2024-01-01\", \"2024-02-01\", \"2024-03-01\", \"2024-04-01\", \"2024-05-01\", \"2024-06-01\", \"2024-07-01\", \"2024-08-01\", \"2024-09-01\", \"2024-10-01\", \"2024-11-01\", \"2024-12-01\", \"2025-01-01\", \"2025-02-01\", \"2025-03-01\", \"2025-04-01\", \"2025-05-01\", \"2025-06-01\", \"2025-07-01\", \"2025-08-01\", \"2025-09-01\", \"2025-10-01\", \"2025-11-01\", \"2025-12-01\"]\n",
      "[\"Product 1\", \"Product 2\", \"Product 3\", \"Product 4\"]\n",
      "Any[4780 4736 4780 7548 6312 3324 5420 6064 7604 5684 4436 7068 6480 6776 2648 2960 6468 3312 7868 6520 5100 4192 4432 2132; 2612 5232 2332 3380 4240 2252 384 2040 4776 3068 4484 3140 1332 1284 3544 0 2472 284 2968 3524 908 3912 5120 4044; 1428 1820 3176 2488 2368 2916 1616 2496 1908 1548 2592 1460 1532 2456 2300 3596 2888 2696 3724 2060 2020 3008 2080 1656; 860 828 756 832 660 948 616 536 696 764 256 984 880 708 692 816 780 784 672 544 708 768 904 636]\n"
     ]
    },
    {
     "data": {
      "text/plain": [
       "(4, 24, [\"Product 1\", \"Product 2\", \"Product 3\", \"Product 4\"], Any[4780 4736 … 4432 2132; 2612 5232 … 5120 4044; 1428 1820 … 2080 1656; 860 828 … 904 636], [\"2023-12-01\", \"2024-01-01\", \"2024-02-01\", \"2024-03-01\", \"2024-04-01\", \"2024-05-01\", \"2024-06-01\", \"2024-07-01\", \"2024-08-01\", \"2024-09-01\"  …  \"2025-03-01\", \"2025-04-01\", \"2025-05-01\", \"2025-06-01\", \"2025-07-01\", \"2025-08-01\", \"2025-09-01\", \"2025-10-01\", \"2025-11-01\", \"2025-12-01\"])"
      ]
     },
     "execution_count": 7,
     "metadata": {},
     "output_type": "execute_result"
    }
   ],
   "source": [
    "function read_forecast(demand_df)\n",
    "    num_products_p = ncol(demand_df) - 1\n",
    "    println(num_products_p)  #to not include the time columnindex\n",
    "    time_horizon_T = nrow(demand_df)\n",
    "    println(time_horizon_T)\n",
    "    date_list = demand_df[:,1]\n",
    "    date_difference = date_list[2] - date_list[1]\n",
    "    initial_date = date_list[1] - date_difference\n",
    "    date_list = [initial_date; date_list]\n",
    "    date_list = [string(date) for date in date_list]\n",
    "    println(date_list)\n",
    "    product_names = names(demand_df)[2:end]\n",
    "    println(product_names)\n",
    "    demand_data = Matrix(demand_df[:, 2:end])\n",
    "    demand_D = transpose(demand_data)\n",
    "    println(demand_D)\n",
    "\n",
    "    return num_products_p,time_horizon_T,product_names,demand_D,date_list\n",
    "end    \n",
    "\n",
    "num_products_p,time_horizon_T,product_names,demand_D,date_list = read_forecast(demand_df)"
   ]
  },
  {
   "cell_type": "code",
   "execution_count": 8,
   "metadata": {},
   "outputs": [
    {
     "name": "stdout",
     "output_type": "stream",
     "text": [
      "3\n",
      "Any[\"workertype_1\", \"workertype_2\", \"workertype_3\"]\n",
      "Any[80 86 83 90; 136 140 145 150; 100 102 90 120]\n"
     ]
    },
    {
     "data": {
      "text/plain": [
       "(3, Any[\"workertype_1\", \"workertype_2\", \"workertype_3\"], Any[80 86 83 90; 136 140 145 150; 100 102 90 120])"
      ]
     },
     "execution_count": 8,
     "metadata": {},
     "output_type": "execute_result"
    }
   ],
   "source": [
    "\n",
    "#Using Angela's code, return workertype_L back to workertype_W, num_workertype_W to num_workertype_w\n",
    "\n",
    "\n",
    "\n",
    "function read_workertype(workerproduct_df)\n",
    "    num_workertype_w=nrow(workerproduct_df)\n",
    "    println(num_workertype_w)\n",
    "    worker_names= workerproduct_df[:,1]\n",
    "    println(worker_names) \n",
    "    productionrate_K = Matrix(workerproduct_df[1:end,2:end])\n",
    "    println(productionrate_K)\n",
    "    return num_workertype_w, worker_names, productionrate_K\n",
    "end\n",
    "\n",
    "num_workertype_w, worker_names, productionrate_K = read_workertype(workerproduct_df)"
   ]
  },
  {
   "cell_type": "code",
   "execution_count": 9,
   "metadata": {},
   "outputs": [
    {
     "name": "stdout",
     "output_type": "stream",
     "text": [
      "Any[150 120 30 0]\n",
      "120\n"
     ]
    }
   ],
   "source": [
    "initial_inventory_I0 = Matrix(initial_inventory_df[!,1:end])\n",
    "println(initial_inventory_I0)\n",
    "println(initial_inventory_I0[2])"
   ]
  },
  {
   "cell_type": "code",
   "execution_count": 10,
   "metadata": {},
   "outputs": [
    {
     "name": "stdout",
     "output_type": "stream",
     "text": [
      "Any[87 89 50]\n",
      "89\n",
      "3\n"
     ]
    }
   ],
   "source": [
    "initial_worker_W0 = Matrix(initial_worker_df[!,1:end])\n",
    "println(initial_worker_W0)\n",
    "println(initial_worker_W0[2])\n",
    "println(num_workertype_w)"
   ]
  },
  {
   "cell_type": "code",
   "execution_count": 11,
   "metadata": {},
   "outputs": [],
   "source": [
    "# function read_forecast(forecast)\n",
    "#     num_products_p = ncol(forecast) - 1  #to not include the time columnindex\n",
    "#     time_horizon_T = nrow(forecast)\n",
    "#     product_names = names(forecast)[2:end]\n",
    "\n",
    "#     #Initialise dates in correct format\n",
    "#     date_list = []\n",
    "#     date_input_format = DateFormat(\"dd/mm/yyyy\")\n",
    "#     date_output_format = DateFormat(\"yyyy-mm-dd\")\n",
    "#     for row in 1:time_horizon_T\n",
    "#         date_obj = Date(forecast[row,1],date_input_format)\n",
    "#         formatted_date_obj = Dates.format(date_obj,date_output_format)\n",
    "#         push!(date_list,formatted_date_obj)\n",
    "#     end\n",
    "\n",
    "#     return num_products_p,time_horizon_T,product_names,demand_D,workdays_n,productivity_K,date_list\n",
    "# end"
   ]
  },
  {
   "cell_type": "code",
   "execution_count": 12,
   "metadata": {},
   "outputs": [
    {
     "name": "stdout",
     "output_type": "stream",
     "text": [
      "3\n",
      "4\n",
      "24\n"
     ]
    }
   ],
   "source": [
    "println(num_workertype_w)\n",
    "println(num_products_p)\n",
    "println(time_horizon_T)"
   ]
  },
  {
   "cell_type": "code",
   "execution_count": 13,
   "metadata": {},
   "outputs": [
    {
     "data": {
      "text/plain": [
       "350"
      ]
     },
     "execution_count": 13,
     "metadata": {},
     "output_type": "execute_result"
    }
   ],
   "source": [
    "# Initialise Costs\n",
    "cost_hiring_cH = 400    # Hiring cost per worker\n",
    "cost_firing_cF = 700    # Firing cost per worker\n",
    "cost_inventory_cI = 9.05 # Inventory holding cost per unit\n",
    "cost_labour_cR = 233.30  # Cost of Labour per production unit\n",
    "cost_overtime_cO = 349.89 # Cost of Overtime per overtime unit\n",
    "cost_backlogging_cB = 999999  #Cost of Backlogging per overtime unit \n",
    "cost_idle_cU= 250 #Cost of Idle per worker\n",
    "cost_subcontract_cS= 350 #cost of Subcontract "
   ]
  },
  {
   "cell_type": "code",
   "execution_count": 14,
   "metadata": {},
   "outputs": [
    {
     "name": "stdout",
     "output_type": "stream",
     "text": [
      "Set parameter WLSAccessID\n",
      "Set parameter WLSSecret\n",
      "Set parameter LicenseID to value 2528347\n",
      "Academic license 2528347 - for non-commercial use only - registered to jo___@mymail.sutd.edu.sg\n",
      "Gurobi Optimizer version 11.0.2 build v11.0.2rc0 (win64 - Windows 11.0 (22631.2))\n",
      "\n",
      "CPU model: 11th Gen Intel(R) Core(TM) i7-1165G7 @ 2.80GHz, instruction set [SSE2|AVX|AVX2|AVX512]\n",
      "Thread count: 4 physical cores, 8 logical processors, using up to 8 threads\n",
      "\n",
      "Academic license 2528347 - for non-commercial use only - registered to jo___@mymail.sutd.edu.sg\n",
      "Optimize a model with 757 rows, 1225 columns and 2413 nonzeros\n",
      "Model fingerprint: 0xae41e3c4\n",
      "Variable types: 75 continuous, 1150 integer (0 binary)\n",
      "Coefficient statistics:\n",
      "  Matrix range     [2e-01, 2e+02]\n",
      "  Objective range  [9e+00, 1e+06]\n",
      "  Bounds range     [0e+00, 0e+00]\n",
      "  RHS range        [3e+01, 8e+03]\n",
      "Found heuristic solution: objective 8.558686e+09\n",
      "Presolve removed 175 rows and 607 columns\n",
      "Presolve time: 0.00s\n",
      "Presolved: 582 rows, 618 columns, 1609 nonzeros\n",
      "Found heuristic solution: objective 9.365816e+07\n",
      "Variable types: 0 continuous, 618 integer (0 binary)\n",
      "Found heuristic solution: objective 9.365781e+07\n",
      "\n",
      "Root relaxation: objective 6.241419e+07, 484 iterations, 0.00 seconds (0.00 work units)\n",
      "\n",
      "    Nodes    |    Current Node    |     Objective Bounds      |     Work\n",
      " Expl Unexpl |  Obj  Depth IntInf | Incumbent    BestBd   Gap | It/Node Time\n",
      "\n",
      "     0     0 6.2414e+07    0  223 9.3658e+07 6.2414e+07  33.4%     -    0s\n",
      "H    0     0                    6.256326e+07 6.2414e+07  0.24%     -    0s\n",
      "H    0     0                    6.241647e+07 6.2414e+07  0.00%     -    0s\n",
      "\n",
      "Explored 1 nodes (487 simplex iterations) in 0.01 seconds (0.01 work units)\n",
      "Thread count was 8 (of 8 available processors)\n",
      "\n",
      "Solution count 5: 6.24165e+07 6.25633e+07 9.36578e+07 ... 8.55869e+09\n",
      "\n",
      "Optimal solution found (tolerance 1.00e-04)\n",
      "Best objective 6.241646695000e+07, best bound 6.241418530392e+07, gap 0.0037%\n",
      "\n",
      "User-callback calls 498, time in user-callback 0.02 sec\n",
      "Objective value: 6.241646695e7\n",
      "Workers: 3-dimensional DenseAxisArray{Int64,3,...} with index sets:\n",
      "    Dimension 1, Base.OneTo(3)\n",
      "    Dimension 2, Base.OneTo(4)\n",
      "    Dimension 3, 0:24\n",
      "And data, a 3×4×25 Array{Int64, 3}:\n",
      "[:, :, 0] =\n",
      " 0  0  0  0\n",
      " 0  0  0  0\n",
      " 0  0  0  0\n",
      "\n",
      "[:, :, 1] =\n",
      " 119  29  17  10\n",
      "  71  18  10   6\n",
      "  96  25  16   8\n",
      "\n",
      "[:, :, 2] =\n",
      " 82  61  22  10\n",
      " 48  38  13   6\n",
      " 65  52  21   7\n",
      "\n",
      "[:, :, 3] =\n",
      " 99  28  39  9\n",
      " 60  17  22  6\n",
      " 79  23  36  7\n",
      "\n",
      "[:, :, 4] =\n",
      " 95  40  30  10\n",
      " 56  25  18   6\n",
      " 76  34  28   7\n",
      "\n",
      "[:, :, 5] =\n",
      " 88  50  29  8\n",
      " 52  31  17  5\n",
      " 64  42  33  6\n",
      "\n",
      "[:, :, 6] =\n",
      " 101  27  36  11\n",
      "  60  17  21   7\n",
      "  81  23  33   8\n",
      "\n",
      "[:, :, 7] =\n",
      " 143  5  20  7\n",
      "  85  3  12  5\n",
      " 117  4  18  6\n",
      "\n",
      "[:, :, 8] =\n",
      " 114  24  31  6\n",
      "  68  15  18  4\n",
      "  92  20  28  5\n",
      "\n",
      "[:, :, 9] =\n",
      " 96  56  23  8\n",
      " 56  35  14  5\n",
      " 77  47  22  6\n",
      "\n",
      "[:, :, 10] =\n",
      " 119  36  19  9\n",
      "  71  22  11  6\n",
      "  96  31  18  7\n",
      "\n",
      "[:, :, 11] =\n",
      " 95  53  32  3\n",
      " 57  33  18  2\n",
      " 76  44  29  3\n",
      "\n",
      "[:, :, 12] =\n",
      " 117  37  18  11\n",
      "  69  23  11   7\n",
      "  95  31  17   9\n",
      "\n",
      "[:, :, 13] =\n",
      " 138  16  19  10\n",
      "  83  10  11   6\n",
      " 112  14  18   8\n",
      "\n",
      "[:, :, 14] =\n",
      " 130  15  30  8\n",
      "  78  10  17  5\n",
      " 105  13  28  6\n",
      "\n",
      "[:, :, 15] =\n",
      " 105  42  28  8\n",
      "  63  26  16  5\n",
      "  85  35  26  6\n",
      "\n",
      "[:, :, 16] =\n",
      " 129  0  44  10\n",
      "  79  0  25   6\n",
      " 105  0  40   7\n",
      "\n",
      "[:, :, 17] =\n",
      " 110  29  35  9\n",
      "  66  18  20  6\n",
      "  88  25  33  7\n",
      "\n",
      "[:, :, 18] =\n",
      " 133  4  37  9\n",
      "  80  3  21  6\n",
      " 109  3  34  7\n",
      "\n",
      "[:, :, 19] =\n",
      " 99  35  41  8\n",
      " 59  22  24  5\n",
      " 79  30  38  6\n",
      "\n",
      "[:, :, 20] =\n",
      " 110  41  25  7\n",
      "  65  26  15  4\n",
      "  90  35  23  5\n",
      "\n",
      "[:, :, 21] =\n",
      " 139  11  25  8\n",
      "  84   7  14  5\n",
      " 115   9  23  6\n",
      "\n",
      "[:, :, 22] =\n",
      " 91  46  37  9\n",
      " 55  28  21  6\n",
      " 73  39  34  7\n",
      "\n",
      "[:, :, 23] =\n",
      " 86  60  26  11\n",
      " 51  37  15   7\n",
      " 70  51  24   8\n",
      "\n",
      "[:, :, 24] =\n",
      " 107  48  20  8\n",
      "  64  29  12  5\n",
      "  88  40  19  6\n",
      "Hired: 2-dimensional DenseAxisArray{Int64,2,...} with index sets:\n",
      "    Dimension 1, Base.OneTo(3)\n",
      "    Dimension 2, 0:24\n",
      "And data, a 3×25 Matrix{Int64}:\n",
      " 0  88  0  0  0  0  0  0  0  8  0  0  0  0  0  0  0  0  0  0  0  0  0  0  0\n",
      " 0  16  0  0  0  0  0  0  0  5  0  0  0  0  0  0  0  0  0  0  0  0  0  0  0\n",
      " 0  95  0  0  0  0  0  0  0  7  0  0  0  0  0  0  0  1  0  0  0  0  0  0  0\n",
      "Fired: 2-dimensional DenseAxisArray{Int64,2,...} with index sets:\n",
      "    Dimension 1, Base.OneTo(3)\n",
      "    Dimension 2, 0:24\n",
      "And data, a 3×25 Matrix{Int64}:\n",
      " 0  0  0  0  0  0  0  0  0  0  0  0  0  0  0  0  0  0  0  0  0  0  0  0  0\n",
      " 0  0  0  0  0  0  0  0  0  0  0  0  0  0  0  0  0  0  0  0  0  0  0  0  0\n",
      " 0  0  0  0  0  0  0  0  0  0  0  0  0  0  0  0  0  0  0  0  0  0  0  0  0\n",
      "Inventory: 2-dimensional DenseAxisArray{Int64,2,...} with index sets:\n",
      "    Dimension 1, Base.OneTo(4)\n",
      "    Dimension 2, 0:24\n",
      "And data, a 4×25 Matrix{Int64}:\n",
      " 150  0  0  0  0  0  0  0  0  0  0  0  0  0  0  0  0  0    0  0  0  0  0  0  0\n",
      " 120  0  0  0  0  0  0  0  0  0  0  0  0  0  0  0  0  0    0  0  0  0  0  0  0\n",
      "  30  0  0  0  0  0  0  0  0  0  0  0  0  0  0  0  0  0  323  0  0  0  0  0  0\n",
      "   0  0  0  0  0  0  0  0  0  0  0  0  0  0  0  0  0  0    0  0  0  0  0  0  0\n",
      "Production: 2-dimensional DenseAxisArray{Int64,2,...} with index sets:\n",
      "    Dimension 1, Base.OneTo(4)\n",
      "    Dimension 2, 0:24\n",
      "And data, a 4×25 Matrix{Int64}:\n",
      " 0  4630  4736  4780  7548  6312  3324  5420  6064  7604  5684  4436  7068  6480  6776  2648  2960  6468  3312  7868  6520  5100  4192  4432  2132\n",
      " 0  2492  5232  2332  3380  4240  2252   384  2040  4776  3068  4484  3140  1332  1284  3544     0  2472   284  2968  3524   908  3912  5120  4044\n",
      " 0  1398  1820  3176  2488  2368  2916  1616  2496  1908  1548  2592  1460  1532  2456  2300  3596  2888  3019  3401  2060  2020  3008  2080  1656\n",
      " 0   860   828   756   832   660   948   616   536   696   764   256   984   880   708   692   816   780   784   672   544   708   768   904   636\n",
      "Overtime: 2-dimensional DenseAxisArray{Int64,2,...} with index sets:\n",
      "    Dimension 1, Base.OneTo(4)\n",
      "    Dimension 2, 0:24\n",
      "And data, a 4×25 Matrix{Int64}:\n",
      " 0  0  0  0  0  0  0  0  0  0  0  0  0  0  0  0  0  0  0  0  0  0  0  0  0\n",
      " 0  0  0  0  0  0  0  0  0  0  0  0  0  0  0  0  0  0  0  0  0  0  0  0  0\n",
      " 0  0  0  0  0  0  0  0  0  0  0  0  0  0  0  0  0  0  0  0  0  0  0  0  0\n",
      " 0  0  0  0  0  0  0  0  0  0  0  0  0  0  0  0  0  0  0  0  0  0  0  0  0\n",
      "Backlogging: 2-dimensional DenseAxisArray{Int64,2,...} with index sets:\n",
      "    Dimension 1, Base.OneTo(4)\n",
      "    Dimension 2, 0:24\n",
      "And data, a 4×25 Matrix{Int64}:\n",
      " 0  0  0  0  0  0  0  0  0  0  0  0  0  0  0  0  0  0  0  0  0  0  0  0  0\n",
      " 0  0  0  0  0  0  0  0  0  0  0  0  0  0  0  0  0  0  0  0  0  0  0  0  0\n",
      " 0  0  0  0  0  0  0  0  0  0  0  0  0  0  0  0  0  0  0  0  0  0  0  0  0\n",
      " 0  0  0  0  0  0  0  0  0  0  0  0  0  0  0  0  0  0  0  0  0  0  0  0  0\n",
      "Idle: 2-dimensional DenseAxisArray{Int64,2,...} with index sets:\n",
      "    Dimension 1, Base.OneTo(4)\n",
      "    Dimension 2, 0:24\n",
      "And data, a 4×25 Matrix{Int64}:\n",
      " 0  0  0  0  0  0  0  0  0  0  0  0  0  0  0  0  0  0  0  0  0  0  0  0  0\n",
      " 0  0  0  0  0  0  0  0  0  0  0  0  0  0  0  0  0  0  0  0  0  0  0  0  0\n",
      " 0  0  0  0  0  0  0  0  0  0  0  0  0  0  0  0  0  0  0  0  0  0  0  0  0\n",
      " 0  0  0  0  0  0  0  0  0  0  0  0  0  0  0  0  0  0  0  0  0  0  0  0  0\n",
      "Subcontract: 2-dimensional DenseAxisArray{Int64,2,...} with index sets:\n",
      "    Dimension 1, Base.OneTo(4)\n",
      "    Dimension 2, 0:24\n",
      "And data, a 4×25 Matrix{Int64}:\n",
      " 0  0  0  0  0  0  0  0  0  0  0  0  0  0  0  0  0  0  0  0  0  0  0  0  0\n",
      " 0  0  0  0  0  0  0  0  0  0  0  0  0  0  0  0  0  0  0  0  0  0  0  0  0\n",
      " 0  0  0  0  0  0  0  0  0  0  0  0  0  0  0  0  0  0  0  0  0  0  0  0  0\n",
      " 0  0  0  0  0  0  0  0  0  0  0  0  0  0  0  0  0  0  0  0  0  0  0  0  0\n",
      "Regular Production 2-dimensional DenseAxisArray{Int64,2,...} with index sets:\n",
      "    Dimension 1, Base.OneTo(4)\n",
      "    Dimension 2, 0:24\n",
      "And data, a 4×25 Matrix{Int64}:\n",
      " 0  4630  4736  4780  7548  6312  3324  5420  6064  7604  5684  4436  7068  6480  6776  2648  2960  6468  3312  7868  6520  5100  4192  4432  2132\n",
      " 0  2492  5232  2332  3380  4240  2252   384  2040  4776  3068  4484  3140  1332  1284  3544     0  2472   284  2968  3524   908  3912  5120  4044\n",
      " 0  1398  1820  3176  2488  2368  2916  1616  2496  1908  1548  2592  1460  1532  2456  2300  3596  2888  3019  3401  2060  2020  3008  2080  1656\n",
      " 0   860   828   756   832   660   948   616   536   696   764   256   984   880   708   692   816   780   784   672   544   708   768   904   636\n"
     ]
    },
    {
     "data": {
      "text/latex": [
       "$$ \\begin{aligned}\n",
       "\\min\\quad & 400 hired\\_H_{1,0} + 700 fired\\_F_{1,0} + 400 hired\\_H_{1,1} + 700 fired\\_F_{1,1} + 400 hired\\_H_{1,2} + 700 fired\\_F_{1,2} + 400 hired\\_H_{1,3} + 700 fired\\_F_{1,3} + 400 hired\\_H_{1,4} + 700 fired\\_F_{1,4} + 400 hired\\_H_{1,5} + 700 fired\\_F_{1,5} + 400 hired\\_H_{1,6} + 700 fired\\_F_{1,6} + 400 hired\\_H_{1,7} + 700 fired\\_F_{1,7} + 400 hired\\_H_{1,8} + 700 fired\\_F_{1,8} + 400 hired\\_H_{1,9} + 700 fired\\_F_{1,9} + 400 hired\\_H_{1,10} + 700 fired\\_F_{1,10} + 400 hired\\_H_{1,11} + 700 fired\\_F_{1,11} + 400 hired\\_H_{1,12} + 700 fired\\_F_{1,12} + 400 hired\\_H_{1,13} + 700 fired\\_F_{1,13} + 400 hired\\_H_{1,14} + 700 fired\\_F_{1,14} + [[\\ldots\\text{690 terms omitted}\\ldots]] + 9.05 inventory\\_I_{4,20} + 233.3 production\\_P_{4,20} + 349.89 overtime\\_O_{4,20} + 250 idle\\_U_{4,20} + 350 subcontract\\_S_{4,20} + 999999 backlogging\\_B_{4,20} + 9.05 inventory\\_I_{4,21} + 233.3 production\\_P_{4,21} + 349.89 overtime\\_O_{4,21} + 250 idle\\_U_{4,21} + 350 subcontract\\_S_{4,21} + 999999 backlogging\\_B_{4,21} + 9.05 inventory\\_I_{4,22} + 233.3 production\\_P_{4,22} + 349.89 overtime\\_O_{4,22} + 250 idle\\_U_{4,22} + 350 subcontract\\_S_{4,22} + 999999 backlogging\\_B_{4,22} + 9.05 inventory\\_I_{4,23} + 233.3 production\\_P_{4,23} + 349.89 overtime\\_O_{4,23} + 250 idle\\_U_{4,23} + 350 subcontract\\_S_{4,23} + 999999 backlogging\\_B_{4,23} + 9.05 inventory\\_I_{4,24} + 233.3 production\\_P_{4,24} + 349.89 overtime\\_O_{4,24} + 250 idle\\_U_{4,24} + 350 subcontract\\_S_{4,24} + 999999 backlogging\\_B_{4,24}\\\\\n",
       "\\text{Subject to} \\quad & -workerlevel\\_W_{1,1,1} - workerlevel\\_W_{1,2,1} - workerlevel\\_W_{1,3,1} - workerlevel\\_W_{1,4,1} + aggregated\\_workerlevel\\_Wwt_{1,1} = 0\\\\\n",
       " & -workerlevel\\_W_{1,1,2} - workerlevel\\_W_{1,2,2} - workerlevel\\_W_{1,3,2} - workerlevel\\_W_{1,4,2} + aggregated\\_workerlevel\\_Wwt_{1,2} = 0\\\\\n",
       " & -workerlevel\\_W_{1,1,3} - workerlevel\\_W_{1,2,3} - workerlevel\\_W_{1,3,3} - workerlevel\\_W_{1,4,3} + aggregated\\_workerlevel\\_Wwt_{1,3} = 0\\\\\n",
       " & -workerlevel\\_W_{1,1,4} - workerlevel\\_W_{1,2,4} - workerlevel\\_W_{1,3,4} - workerlevel\\_W_{1,4,4} + aggregated\\_workerlevel\\_Wwt_{1,4} = 0\\\\\n",
       " & -workerlevel\\_W_{1,1,5} - workerlevel\\_W_{1,2,5} - workerlevel\\_W_{1,3,5} - workerlevel\\_W_{1,4,5} + aggregated\\_workerlevel\\_Wwt_{1,5} = 0\\\\\n",
       " & -workerlevel\\_W_{1,1,6} - workerlevel\\_W_{1,2,6} - workerlevel\\_W_{1,3,6} - workerlevel\\_W_{1,4,6} + aggregated\\_workerlevel\\_Wwt_{1,6} = 0\\\\\n",
       " & -workerlevel\\_W_{1,1,7} - workerlevel\\_W_{1,2,7} - workerlevel\\_W_{1,3,7} - workerlevel\\_W_{1,4,7} + aggregated\\_workerlevel\\_Wwt_{1,7} = 0\\\\\n",
       " & -workerlevel\\_W_{1,1,8} - workerlevel\\_W_{1,2,8} - workerlevel\\_W_{1,3,8} - workerlevel\\_W_{1,4,8} + aggregated\\_workerlevel\\_Wwt_{1,8} = 0\\\\\n",
       " & -workerlevel\\_W_{1,1,9} - workerlevel\\_W_{1,2,9} - workerlevel\\_W_{1,3,9} - workerlevel\\_W_{1,4,9} + aggregated\\_workerlevel\\_Wwt_{1,9} = 0\\\\\n",
       " & -workerlevel\\_W_{1,1,10} - workerlevel\\_W_{1,2,10} - workerlevel\\_W_{1,3,10} - workerlevel\\_W_{1,4,10} + aggregated\\_workerlevel\\_Wwt_{1,10} = 0\\\\\n",
       " & -workerlevel\\_W_{1,1,11} - workerlevel\\_W_{1,2,11} - workerlevel\\_W_{1,3,11} - workerlevel\\_W_{1,4,11} + aggregated\\_workerlevel\\_Wwt_{1,11} = 0\\\\\n",
       " & -workerlevel\\_W_{1,1,12} - workerlevel\\_W_{1,2,12} - workerlevel\\_W_{1,3,12} - workerlevel\\_W_{1,4,12} + aggregated\\_workerlevel\\_Wwt_{1,12} = 0\\\\\n",
       " & -workerlevel\\_W_{1,1,13} - workerlevel\\_W_{1,2,13} - workerlevel\\_W_{1,3,13} - workerlevel\\_W_{1,4,13} + aggregated\\_workerlevel\\_Wwt_{1,13} = 0\\\\\n",
       " & -workerlevel\\_W_{1,1,14} - workerlevel\\_W_{1,2,14} - workerlevel\\_W_{1,3,14} - workerlevel\\_W_{1,4,14} + aggregated\\_workerlevel\\_Wwt_{1,14} = 0\\\\\n",
       " & -workerlevel\\_W_{1,1,15} - workerlevel\\_W_{1,2,15} - workerlevel\\_W_{1,3,15} - workerlevel\\_W_{1,4,15} + aggregated\\_workerlevel\\_Wwt_{1,15} = 0\\\\\n",
       " & -workerlevel\\_W_{1,1,16} - workerlevel\\_W_{1,2,16} - workerlevel\\_W_{1,3,16} - workerlevel\\_W_{1,4,16} + aggregated\\_workerlevel\\_Wwt_{1,16} = 0\\\\\n",
       " & -workerlevel\\_W_{1,1,17} - workerlevel\\_W_{1,2,17} - workerlevel\\_W_{1,3,17} - workerlevel\\_W_{1,4,17} + aggregated\\_workerlevel\\_Wwt_{1,17} = 0\\\\\n",
       " & -workerlevel\\_W_{1,1,18} - workerlevel\\_W_{1,2,18} - workerlevel\\_W_{1,3,18} - workerlevel\\_W_{1,4,18} + aggregated\\_workerlevel\\_Wwt_{1,18} = 0\\\\\n",
       " & -workerlevel\\_W_{1,1,19} - workerlevel\\_W_{1,2,19} - workerlevel\\_W_{1,3,19} - workerlevel\\_W_{1,4,19} + aggregated\\_workerlevel\\_Wwt_{1,19} = 0\\\\\n",
       " & -workerlevel\\_W_{1,1,20} - workerlevel\\_W_{1,2,20} - workerlevel\\_W_{1,3,20} - workerlevel\\_W_{1,4,20} + aggregated\\_workerlevel\\_Wwt_{1,20} = 0\\\\\n",
       " & -workerlevel\\_W_{1,1,21} - workerlevel\\_W_{1,2,21} - workerlevel\\_W_{1,3,21} - workerlevel\\_W_{1,4,21} + aggregated\\_workerlevel\\_Wwt_{1,21} = 0\\\\\n",
       " & -workerlevel\\_W_{1,1,22} - workerlevel\\_W_{1,2,22} - workerlevel\\_W_{1,3,22} - workerlevel\\_W_{1,4,22} + aggregated\\_workerlevel\\_Wwt_{1,22} = 0\\\\\n",
       " & -workerlevel\\_W_{1,1,23} - workerlevel\\_W_{1,2,23} - workerlevel\\_W_{1,3,23} - workerlevel\\_W_{1,4,23} + aggregated\\_workerlevel\\_Wwt_{1,23} = 0\\\\\n",
       " & -workerlevel\\_W_{1,1,24} - workerlevel\\_W_{1,2,24} - workerlevel\\_W_{1,3,24} - workerlevel\\_W_{1,4,24} + aggregated\\_workerlevel\\_Wwt_{1,24} = 0\\\\\n",
       " & -workerlevel\\_W_{2,1,1} - workerlevel\\_W_{2,2,1} - workerlevel\\_W_{2,3,1} - workerlevel\\_W_{2,4,1} + aggregated\\_workerlevel\\_Wwt_{2,1} = 0\\\\\n",
       " & -workerlevel\\_W_{2,1,2} - workerlevel\\_W_{2,2,2} - workerlevel\\_W_{2,3,2} - workerlevel\\_W_{2,4,2} + aggregated\\_workerlevel\\_Wwt_{2,2} = 0\\\\\n",
       " & -workerlevel\\_W_{2,1,3} - workerlevel\\_W_{2,2,3} - workerlevel\\_W_{2,3,3} - workerlevel\\_W_{2,4,3} + aggregated\\_workerlevel\\_Wwt_{2,3} = 0\\\\\n",
       " & -workerlevel\\_W_{2,1,4} - workerlevel\\_W_{2,2,4} - workerlevel\\_W_{2,3,4} - workerlevel\\_W_{2,4,4} + aggregated\\_workerlevel\\_Wwt_{2,4} = 0\\\\\n",
       " & -workerlevel\\_W_{2,1,5} - workerlevel\\_W_{2,2,5} - workerlevel\\_W_{2,3,5} - workerlevel\\_W_{2,4,5} + aggregated\\_workerlevel\\_Wwt_{2,5} = 0\\\\\n",
       " & -workerlevel\\_W_{2,1,6} - workerlevel\\_W_{2,2,6} - workerlevel\\_W_{2,3,6} - workerlevel\\_W_{2,4,6} + aggregated\\_workerlevel\\_Wwt_{2,6} = 0\\\\\n",
       " & -workerlevel\\_W_{2,1,7} - workerlevel\\_W_{2,2,7} - workerlevel\\_W_{2,3,7} - workerlevel\\_W_{2,4,7} + aggregated\\_workerlevel\\_Wwt_{2,7} = 0\\\\\n",
       " & -workerlevel\\_W_{2,1,8} - workerlevel\\_W_{2,2,8} - workerlevel\\_W_{2,3,8} - workerlevel\\_W_{2,4,8} + aggregated\\_workerlevel\\_Wwt_{2,8} = 0\\\\\n",
       " & -workerlevel\\_W_{2,1,9} - workerlevel\\_W_{2,2,9} - workerlevel\\_W_{2,3,9} - workerlevel\\_W_{2,4,9} + aggregated\\_workerlevel\\_Wwt_{2,9} = 0\\\\\n",
       " & -workerlevel\\_W_{2,1,10} - workerlevel\\_W_{2,2,10} - workerlevel\\_W_{2,3,10} - workerlevel\\_W_{2,4,10} + aggregated\\_workerlevel\\_Wwt_{2,10} = 0\\\\\n",
       " & -workerlevel\\_W_{2,1,11} - workerlevel\\_W_{2,2,11} - workerlevel\\_W_{2,3,11} - workerlevel\\_W_{2,4,11} + aggregated\\_workerlevel\\_Wwt_{2,11} = 0\\\\\n",
       " & -workerlevel\\_W_{2,1,12} - workerlevel\\_W_{2,2,12} - workerlevel\\_W_{2,3,12} - workerlevel\\_W_{2,4,12} + aggregated\\_workerlevel\\_Wwt_{2,12} = 0\\\\\n",
       " & -workerlevel\\_W_{2,1,13} - workerlevel\\_W_{2,2,13} - workerlevel\\_W_{2,3,13} - workerlevel\\_W_{2,4,13} + aggregated\\_workerlevel\\_Wwt_{2,13} = 0\\\\\n",
       " & -workerlevel\\_W_{2,1,14} - workerlevel\\_W_{2,2,14} - workerlevel\\_W_{2,3,14} - workerlevel\\_W_{2,4,14} + aggregated\\_workerlevel\\_Wwt_{2,14} = 0\\\\\n",
       " & -workerlevel\\_W_{2,1,15} - workerlevel\\_W_{2,2,15} - workerlevel\\_W_{2,3,15} - workerlevel\\_W_{2,4,15} + aggregated\\_workerlevel\\_Wwt_{2,15} = 0\\\\\n",
       " & -workerlevel\\_W_{2,1,16} - workerlevel\\_W_{2,2,16} - workerlevel\\_W_{2,3,16} - workerlevel\\_W_{2,4,16} + aggregated\\_workerlevel\\_Wwt_{2,16} = 0\\\\\n",
       " & -workerlevel\\_W_{2,1,17} - workerlevel\\_W_{2,2,17} - workerlevel\\_W_{2,3,17} - workerlevel\\_W_{2,4,17} + aggregated\\_workerlevel\\_Wwt_{2,17} = 0\\\\\n",
       " & -workerlevel\\_W_{2,1,18} - workerlevel\\_W_{2,2,18} - workerlevel\\_W_{2,3,18} - workerlevel\\_W_{2,4,18} + aggregated\\_workerlevel\\_Wwt_{2,18} = 0\\\\\n",
       " & -workerlevel\\_W_{2,1,19} - workerlevel\\_W_{2,2,19} - workerlevel\\_W_{2,3,19} - workerlevel\\_W_{2,4,19} + aggregated\\_workerlevel\\_Wwt_{2,19} = 0\\\\\n",
       " & -workerlevel\\_W_{2,1,20} - workerlevel\\_W_{2,2,20} - workerlevel\\_W_{2,3,20} - workerlevel\\_W_{2,4,20} + aggregated\\_workerlevel\\_Wwt_{2,20} = 0\\\\\n",
       " & -workerlevel\\_W_{2,1,21} - workerlevel\\_W_{2,2,21} - workerlevel\\_W_{2,3,21} - workerlevel\\_W_{2,4,21} + aggregated\\_workerlevel\\_Wwt_{2,21} = 0\\\\\n",
       " & -workerlevel\\_W_{2,1,22} - workerlevel\\_W_{2,2,22} - workerlevel\\_W_{2,3,22} - workerlevel\\_W_{2,4,22} + aggregated\\_workerlevel\\_Wwt_{2,22} = 0\\\\\n",
       " & -workerlevel\\_W_{2,1,23} - workerlevel\\_W_{2,2,23} - workerlevel\\_W_{2,3,23} - workerlevel\\_W_{2,4,23} + aggregated\\_workerlevel\\_Wwt_{2,23} = 0\\\\\n",
       " & -workerlevel\\_W_{2,1,24} - workerlevel\\_W_{2,2,24} - workerlevel\\_W_{2,3,24} - workerlevel\\_W_{2,4,24} + aggregated\\_workerlevel\\_Wwt_{2,24} = 0\\\\\n",
       " & -workerlevel\\_W_{3,1,1} - workerlevel\\_W_{3,2,1} - workerlevel\\_W_{3,3,1} - workerlevel\\_W_{3,4,1} + aggregated\\_workerlevel\\_Wwt_{3,1} = 0\\\\\n",
       " & -workerlevel\\_W_{3,1,2} - workerlevel\\_W_{3,2,2} - workerlevel\\_W_{3,3,2} - workerlevel\\_W_{3,4,2} + aggregated\\_workerlevel\\_Wwt_{3,2} = 0\\\\\n",
       " & [[\\ldots\\text{2957 constraints skipped}\\ldots]] \\\\\n",
       " & regularproduction\\_R_{3,12} \\in \\mathbb{Z}\\\\\n",
       " & regularproduction\\_R_{4,12} \\in \\mathbb{Z}\\\\\n",
       " & regularproduction\\_R_{1,13} \\in \\mathbb{Z}\\\\\n",
       " & regularproduction\\_R_{2,13} \\in \\mathbb{Z}\\\\\n",
       " & regularproduction\\_R_{3,13} \\in \\mathbb{Z}\\\\\n",
       " & regularproduction\\_R_{4,13} \\in \\mathbb{Z}\\\\\n",
       " & regularproduction\\_R_{1,14} \\in \\mathbb{Z}\\\\\n",
       " & regularproduction\\_R_{2,14} \\in \\mathbb{Z}\\\\\n",
       " & regularproduction\\_R_{3,14} \\in \\mathbb{Z}\\\\\n",
       " & regularproduction\\_R_{4,14} \\in \\mathbb{Z}\\\\\n",
       " & regularproduction\\_R_{1,15} \\in \\mathbb{Z}\\\\\n",
       " & regularproduction\\_R_{2,15} \\in \\mathbb{Z}\\\\\n",
       " & regularproduction\\_R_{3,15} \\in \\mathbb{Z}\\\\\n",
       " & regularproduction\\_R_{4,15} \\in \\mathbb{Z}\\\\\n",
       " & regularproduction\\_R_{1,16} \\in \\mathbb{Z}\\\\\n",
       " & regularproduction\\_R_{2,16} \\in \\mathbb{Z}\\\\\n",
       " & regularproduction\\_R_{3,16} \\in \\mathbb{Z}\\\\\n",
       " & regularproduction\\_R_{4,16} \\in \\mathbb{Z}\\\\\n",
       " & regularproduction\\_R_{1,17} \\in \\mathbb{Z}\\\\\n",
       " & regularproduction\\_R_{2,17} \\in \\mathbb{Z}\\\\\n",
       " & regularproduction\\_R_{3,17} \\in \\mathbb{Z}\\\\\n",
       " & regularproduction\\_R_{4,17} \\in \\mathbb{Z}\\\\\n",
       " & regularproduction\\_R_{1,18} \\in \\mathbb{Z}\\\\\n",
       " & regularproduction\\_R_{2,18} \\in \\mathbb{Z}\\\\\n",
       " & regularproduction\\_R_{3,18} \\in \\mathbb{Z}\\\\\n",
       " & regularproduction\\_R_{4,18} \\in \\mathbb{Z}\\\\\n",
       " & regularproduction\\_R_{1,19} \\in \\mathbb{Z}\\\\\n",
       " & regularproduction\\_R_{2,19} \\in \\mathbb{Z}\\\\\n",
       " & regularproduction\\_R_{3,19} \\in \\mathbb{Z}\\\\\n",
       " & regularproduction\\_R_{4,19} \\in \\mathbb{Z}\\\\\n",
       " & regularproduction\\_R_{1,20} \\in \\mathbb{Z}\\\\\n",
       " & regularproduction\\_R_{2,20} \\in \\mathbb{Z}\\\\\n",
       " & regularproduction\\_R_{3,20} \\in \\mathbb{Z}\\\\\n",
       " & regularproduction\\_R_{4,20} \\in \\mathbb{Z}\\\\\n",
       " & regularproduction\\_R_{1,21} \\in \\mathbb{Z}\\\\\n",
       " & regularproduction\\_R_{2,21} \\in \\mathbb{Z}\\\\\n",
       " & regularproduction\\_R_{3,21} \\in \\mathbb{Z}\\\\\n",
       " & regularproduction\\_R_{4,21} \\in \\mathbb{Z}\\\\\n",
       " & regularproduction\\_R_{1,22} \\in \\mathbb{Z}\\\\\n",
       " & regularproduction\\_R_{2,22} \\in \\mathbb{Z}\\\\\n",
       " & regularproduction\\_R_{3,22} \\in \\mathbb{Z}\\\\\n",
       " & regularproduction\\_R_{4,22} \\in \\mathbb{Z}\\\\\n",
       " & regularproduction\\_R_{1,23} \\in \\mathbb{Z}\\\\\n",
       " & regularproduction\\_R_{2,23} \\in \\mathbb{Z}\\\\\n",
       " & regularproduction\\_R_{3,23} \\in \\mathbb{Z}\\\\\n",
       " & regularproduction\\_R_{4,23} \\in \\mathbb{Z}\\\\\n",
       " & regularproduction\\_R_{1,24} \\in \\mathbb{Z}\\\\\n",
       " & regularproduction\\_R_{2,24} \\in \\mathbb{Z}\\\\\n",
       " & regularproduction\\_R_{3,24} \\in \\mathbb{Z}\\\\\n",
       " & regularproduction\\_R_{4,24} \\in \\mathbb{Z}\\\\\n",
       "\\end{aligned} $$"
      ]
     },
     "metadata": {},
     "output_type": "display_data"
    }
   ],
   "source": [
    "#Attempt\n",
    "using JuMP\n",
    "using Gurobi\n",
    "\n",
    "# Define the model\n",
    "model = Model(Gurobi.Optimizer)\n",
    "\n",
    "# Variables\n",
    "@variable(model, workerlevel_W[1:num_workertype_w,1:num_products_p, 0:time_horizon_T] >= 0, Int) # Workers\n",
    "@variable(model, hired_H[1:num_workertype_w,0:time_horizon_T] >= 0, Int)       # Hired workers\n",
    "@variable(model, fired_F[1:num_workertype_w,0:time_horizon_T] >= 0, Int)       # Fired workers\n",
    "@variable(model, inventory_I[1:num_products_p, 0:time_horizon_T] >= 0, Int)     # Inventory\n",
    "@variable(model, production_P[1:num_products_p, 0:time_horizon_T] >= 0, Int)    # Production\n",
    "@variable(model, overtime_O[1:num_products_p, 0:time_horizon_T] >= 0, Int)      # Overtime\n",
    "@variable(model, backlogging_B[1:num_products_p, 0:time_horizon_T] >= 0, Int)   # Backlogging\n",
    "@variable(model, idle_U[1:num_products_p, 0:time_horizon_T] >= 0, Int)          # Idle\n",
    "@variable(model, subcontract_S[1:num_products_p, 0:time_horizon_T] >= 0, Int) #Subcontract\n",
    "@variable(model, regularproduction_R[1:num_products_p, 0:time_horizon_T] >= 0, Int) #Regular Production\n",
    "@variable(model, aggregated_workerlevel_Wwt[1:num_workertype_w, 0:time_horizon_T])    #Worker Level but 2D\n",
    "\n",
    "# Objective\n",
    "@objective(model, Min,\n",
    "    sum(cost_hiring_cH * hired_H[w, t] + cost_firing_cF * fired_F[w, t] for w in 1:num_workertype_w, t in 0:time_horizon_T) +\n",
    "    sum(cost_inventory_cI * inventory_I[p, t] + cost_labour_cR * production_P[p, t] +\n",
    "        cost_overtime_cO * overtime_O[p, t] + cost_idle_cU * idle_U[p, t] +\n",
    "        cost_subcontract_cS * subcontract_S[p, t] + cost_backlogging_cB * backlogging_B[p, t]\n",
    "        for p in 1:num_products_p, t in 0:time_horizon_T)\n",
    ")\n",
    "\n",
    "# Constraints\n",
    "for w in 1:num_workertype_w\n",
    "    for t in 1:time_horizon_T\n",
    "        @constraint(model, aggregated_workerlevel_Wwt[w, t] == sum(workerlevel_W[w, p, t] for p in 1:num_products_p))\n",
    "    end\n",
    "end\n",
    "\n",
    "#set initial values of workertype variables for 0 for time period 0\n",
    "\n",
    "for w in 1:num_workertype_w\n",
    "    @constraint(model, aggregated_workerlevel_Wwt[w, 0] == initial_worker_W0[w])\n",
    "    @constraint(model, hired_H[w,0] == 0)\n",
    "    @constraint(model, fired_F[w,0] == 0)\n",
    "end\n",
    "\n",
    "#set initial values of production variables to 0 for time period 0\n",
    "\n",
    "for p in 1:num_products_p\n",
    "    @constraint(model, inventory_I[p,0] == initial_inventory_I0[p])\n",
    "    @constraint(model, backlogging_B[p,0] == 0 )\n",
    "    @constraint(model, overtime_O[p,0] == 0)\n",
    "    @constraint(model, subcontract_S[p,0] == 0)\n",
    "    @constraint(model, production_P[p,0] == 0)\n",
    "    @constraint(model, regularproduction_R[p,0] == 0)\n",
    "    @constraint(model, idle_U[p,0] == 0)\n",
    "end     \n",
    "\n",
    "for w in 1:num_workertype_w\n",
    "    for t in 1: time_horizon_T\n",
    "        @constraint(model, aggregated_workerlevel_Wwt[w,t] == aggregated_workerlevel_Wwt[w, t-1] + hired_H[w,t] - fired_F[w,t])   \n",
    "    end    \n",
    "end\n",
    "\n",
    "for w in 1:num_workertype_w\n",
    "    for p in 1:num_products_p\n",
    "        for t in 1:time_horizon_T\n",
    "            @constraint(model, regularproduction_R[p,t] <= productionrate_K[w,p]*workerlevel_W[w,p,t]) \n",
    "        end\n",
    "    end\n",
    "end\n",
    "\n",
    "# Worker level constraints for subsequent periods\n",
    "for p in 1:num_products_p\n",
    "    for t in 1:time_horizon_T\n",
    "        @constraint(model, production_P[p,t] == regularproduction_R[p,t] + overtime_O[p,t] - idle_U[p,t])\n",
    "        @constraint(model, overtime_O[p,t] <= 0.2*regularproduction_R[p,t])\n",
    "        #@constraint(model, hired_H[p,t] + fired[w,t] <= 0.1*sum(workerlevel_W[w,p,t]) for w in num_workerlevel_W)\n",
    "    end\n",
    "end\n",
    "\n",
    "# Inventory and backlogging constraints for subsequent periods\n",
    "for p in 1:num_products_p\n",
    "    for t in 1:time_horizon_T\n",
    "        @constraint(model, inventory_I[p,t] - backlogging_B[p,t] == inventory_I[p,t-1] + backlogging_B[p,t-1] + production_P[p,t] + subcontract_S[p,t] - demand_D[p,t])    \n",
    "    end\n",
    "end\n",
    "\n",
    "# Solve the model\n",
    "optimize!(model)\n",
    "\n",
    "println(\"Objective value: \", objective_value(model))\n",
    "println(\"Workers: \", round.(Int,value.(workerlevel_W)))\n",
    "println(\"Hired: \", round.(Int,value.(hired_H)))\n",
    "println(\"Fired: \", round.(Int,value.(fired_F)))\n",
    "println(\"Inventory: \", round.(Int,value.(inventory_I)))\n",
    "println(\"Production: \", round.(Int,value.(production_P)))\n",
    "println(\"Overtime: \", round.(Int,value.(overtime_O)))\n",
    "println(\"Backlogging: \", round.(Int,value.(backlogging_B)))\n",
    "println(\"Idle: \", round.(Int,value.(idle_U)))\n",
    "println(\"Subcontract: \", round.(Int,value.(subcontract_S)))\n",
    "println(\"Regular Production \",round.(Int,value.(regularproduction_R)))\n",
    "\n",
    "print(model)\n"
   ]
  },
  {
   "cell_type": "code",
   "execution_count": 23,
   "metadata": {},
   "outputs": [
    {
     "data": {
      "text/plain": [
       "optimise (generic function with 1 method)"
      ]
     },
     "execution_count": 23,
     "metadata": {},
     "output_type": "execute_result"
    }
   ],
   "source": [
    "#full optimise function testing\n",
    "\n",
    "cost_hiring_cH = 5882    # Hiring cost per worker\n",
    "cost_firing_cF = 896    # Firing cost per worker\n",
    "cost_inventory_cI = 9.05 # Inventory holding cost per unit\n",
    "cost_labour_cR = 233.30  # Cost of Labour per production unit\n",
    "cost_overtime_cO = 349.89 # Cost of Overtime per overtime unit\n",
    "cost_backlogging_cB = 999999  #Cost of Backlogging per overtime unit \n",
    "cost_idle_cU= 250  #Cost of Idle per worker\n",
    "cost_subcontract_cS= 350  #cost of Subcontract \n",
    "productionrate_K = Any[120 137 86 137; 122 140 100 150; 130 125 90 120]\n",
    "\n",
    "initial_inventory_I0 = Any[150 120 30 0]\n",
    "initial_worker_W0 = Any[42 43 23]\n",
    "num_products_p = 4\n",
    "num_workertype_w = 3\n",
    "date_list = [\"2023-12-01\", \"2024-01-01\", \"2024-02-01\", \"2024-03-01\", \"2024-04-01\", \"2024-05-01\", \"2024-06-01\", \"2024-07-01\", \"2024-08-01\", \"2024-09-01\", \"2024-10-01\", \"2024-11-01\", \"2024-12-01\", \"2025-01-01\", \"2025-02-01\", \"2025-03-01\", \"2025-04-01\", \"2025-05-01\", \"2025-06-01\", \"2025-07-01\", \"2025-08-01\", \"2025-09-01\", \"2025-10-01\", \"2025-11-01\", \"2025-12-01\"]\n",
    "time_horizon_T = 24\n",
    "demand_D = Any[5860 7500 5896 2964 5188 1464 3880 4192 2580 5328 5208 6032 4344 6728 5084 4264 5840 3716 5352 3032 3040 4596 2460 3916; 2392 4300 2468 6064 2304 1092 3640 132 3684 4956 3612 2760 2784 3468 30 3128 3504 4660 1648 2804 3872 440 5660 1840; 2128 2860 556 2340 3004 1776 2032 2464 1068 2936 1736 1448 2364 2684 2116 3604 2932 3072 1552 1628 3232 2120 2708 2176; 616 812 612 1276 728 900 576 472 652 624 576 576 1180 628 720 780 984 652 1004 664 560 932 824 452]\n",
    "product_names = [\"XC_60 Gent\", \"XC_60 China\", \"Kuga\", \"Mondeo\"]\n",
    "worker_names = Any[\"Assembler\", \"Packer\", \"Tester\"]\n",
    "\n",
    "function optimise(num_products_p,num_workertype_w,time_horizon_T,demand_D,productionrate_K,cost_hiring_cH, cost_firing_cF,cost_inventory_cI,cost_labour_cR,cost_overtime_cO,cost_backlogging_cB,cost_idle_cU,cost_subcontract_cS,product_names,date_list,worker_names, initial_inventory_I0, initial_worker_W0)\n",
    "    model = Model(Gurobi.Optimizer)\n",
    "\n",
    "    # Variables\n",
    "    @variable(model, workerlevel_W[1:num_workertype_w,1:num_products_p, 0:time_horizon_T] >= 0, Int) # Workers\n",
    "    @variable(model, hired_H[1:num_workertype_w,0:time_horizon_T] >= 0, Int)       # Hired workers\n",
    "    @variable(model, fired_F[1:num_workertype_w,0:time_horizon_T] >= 0, Int)       # Fired workers\n",
    "    @variable(model, inventory_I[1:num_products_p, 0:time_horizon_T] >= 0, Int)     # Inventory\n",
    "    @variable(model, production_P[1:num_products_p, 0:time_horizon_T] >= 0, Int)    # Production\n",
    "    @variable(model, overtime_O[1:num_products_p, 0:time_horizon_T] >= 0, Int)      # Overtime\n",
    "    @variable(model, backlogging_B[1:num_products_p, 0:time_horizon_T] >= 0, Int)   # Backlogging\n",
    "    @variable(model, idle_U[1:num_products_p, 0:time_horizon_T] >= 0, Int)          # Idle\n",
    "    @variable(model, subcontract_S[1:num_products_p, 0:time_horizon_T] >= 0, Int) #Subcontract\n",
    "    @variable(model, regularproduction_R[1:num_products_p, 0:time_horizon_T] >= 0, Int) #Regular Production\n",
    "    @variable(model, aggregated_workerlevel_Wwt[1:num_workertype_w, 0:time_horizon_T])    #Worker Level but 2D\n",
    "\n",
    "    # Objective\n",
    "    @objective(model, Min,\n",
    "        sum(cost_hiring_cH * hired_H[w, t] + cost_firing_cF * fired_F[w, t] for w in 1:num_workertype_w, t in 0:time_horizon_T) +\n",
    "        sum(cost_inventory_cI * inventory_I[p, t] + cost_labour_cR * production_P[p, t] +\n",
    "            cost_overtime_cO * overtime_O[p, t] + cost_idle_cU * idle_U[p, t] +\n",
    "            cost_subcontract_cS * subcontract_S[p, t] + cost_backlogging_cB * backlogging_B[p, t]\n",
    "            for p in 1:num_products_p, t in 0:time_horizon_T)\n",
    "    )\n",
    "\n",
    "    # Constraints\n",
    "    for w in 1:num_workertype_w\n",
    "        for t in 1:time_horizon_T\n",
    "            @constraint(model, aggregated_workerlevel_Wwt[w, t] == sum(workerlevel_W[w, p, t] for p in 1:num_products_p))\n",
    "        end\n",
    "    end\n",
    "\n",
    "    #set initial values of workertype variables for 0 for time period 0\n",
    "\n",
    "    for w in 1:num_workertype_w\n",
    "        @constraint(model, aggregated_workerlevel_Wwt[w, 0] == initial_worker_W0[w])\n",
    "        @constraint(model, hired_H[w,0] == 0)\n",
    "        @constraint(model, fired_F[w,0] == 0)\n",
    "    end\n",
    "\n",
    "    #set initial values of production variables to 0 for time period 0\n",
    "\n",
    "    for p in 1:num_products_p\n",
    "        @constraint(model, inventory_I[p,0] == initial_inventory_I0[p])\n",
    "        @constraint(model, backlogging_B[p,0] == 0 )\n",
    "        @constraint(model, overtime_O[p,0] == 0)\n",
    "        @constraint(model, subcontract_S[p,0] == 0)\n",
    "        @constraint(model, production_P[p,0] == 0)\n",
    "        @constraint(model, regularproduction_R[p,0] == 0)\n",
    "        @constraint(model, idle_U[p,0] == 0)\n",
    "    end     \n",
    "\n",
    "    for w in 1:num_workertype_w\n",
    "        for t in 1: time_horizon_T\n",
    "            @constraint(model, aggregated_workerlevel_Wwt[w,t] == aggregated_workerlevel_Wwt[w, t-1] + hired_H[w,t] - fired_F[w,t])\n",
    "            #@constraint(model, hired_H[w,t] + fired_F[w,t] <= 0.2*aggregated_workerlevel_Wwt[w,t])   \n",
    "        end    \n",
    "    end\n",
    "\n",
    "    for w in 1:num_workertype_w\n",
    "        for p in 1:num_products_p\n",
    "            for t in 1:time_horizon_T\n",
    "                @constraint(model, regularproduction_R[p,t] <= productionrate_K[w,p]*workerlevel_W[w,p,t]) \n",
    "            end\n",
    "        end\n",
    "    end\n",
    "\n",
    "    # Worker level constraints for subsequent periods\n",
    "    for p in 1:num_products_p\n",
    "        for t in 1:time_horizon_T\n",
    "            @constraint(model, production_P[p,t] == regularproduction_R[p,t] + overtime_O[p,t] - idle_U[p,t])\n",
    "            @constraint(model, overtime_O[p,t] <= 0.2*regularproduction_R[p,t])\n",
    "        end\n",
    "    end\n",
    "\n",
    "    # Inventory and backlogging constraints for subsequent periods\n",
    "    for p in 1:num_products_p\n",
    "        for t in 1:time_horizon_T\n",
    "            @constraint(model, inventory_I[p,t] - backlogging_B[p,t] == inventory_I[p,t-1] - backlogging_B[p,t-1] + production_P[p,t] + subcontract_S[p,t] - demand_D[p,t])    \n",
    "        end\n",
    "    end\n",
    "\n",
    "    # Solve the model\n",
    "    optimize!(model)\n",
    "\n",
    "    #update to rounded to int values\n",
    "    production_P_round = round.(Int,value.(production_P))\n",
    "    overtime_O_round = round.(Int,value.(overtime_O))\n",
    "    backlogging_B_round = round.(Int,value.(backlogging_B))\n",
    "    idle_U_round = round.(Int,value.(idle_U))\n",
    "    subcontract_S_round = round.(Int,value.(subcontract_S))\n",
    "    inventory_I_round = round.(Int,value.(inventory_I))\n",
    "    zero_column_round = round.(Int,zeros(num_products_p,1)) #for demand, because it is 4x24, didnt include the intiial time period\n",
    "    demand_D_round = hcat(zero_column_round, demand_D)\n",
    "    fired_F_round = round.(Int,value.(fired_F))\n",
    "    hired_H_round = round.(Int,value.(hired_H))\n",
    "    aggregated_workerlevel_Wwt_round = round.(Int,value.(aggregated_workerlevel_Wwt)) #transforms demand into 4x25\n",
    "\n",
    "    # for debugging purposes\n",
    "    println(\"Objective value: \", objective_value(model))\n",
    "    println(\"Workers: \", aggregated_workerlevel_Wwt_round)\n",
    "    println(\"Hired: \", hired_H_round)\n",
    "    println(\"Fired: \", fired_F_round)\n",
    "    println(\"Inventory: \", inventory_I_round)\n",
    "    println(\"Production: \", production_P_round)\n",
    "    println(\"Overtime: \", overtime_O_round)\n",
    "    println(\"Backlogging: \", backlogging_B_round)\n",
    "    println(\"Idle: \", idle_U_round)\n",
    "    println(\"Subcontract: \", subcontract_S_round)\n",
    "\n",
    "    production_df = DataFrame(\n",
    "        Product_Name = repeat(product_names, inner = time_horizon_T+1), #to include the initial date (NOT in forecast)\n",
    "        Date = repeat(date_list, outer = num_products_p),\n",
    "        Demand = collect(Iterators.flatten(eachrow(demand_D_round))),\n",
    "        Inventory = collect(Iterators.flatten(eachrow(inventory_I_round))),\n",
    "        Production = collect(Iterators.flatten(eachrow(production_P_round))),\n",
    "        Overtime = collect(Iterators.flatten(eachrow(overtime_O_round))),\n",
    "        Backlogging = collect(Iterators.flatten(eachrow(backlogging_B_round))),\n",
    "        Idle = collect(Iterators.flatten(eachrow(idle_U_round))),\n",
    "        Subcontract = collect(Iterators.flatten(eachrow(subcontract_S_round))),\n",
    "    )\n",
    "\n",
    "    worker_df = DataFrame(\n",
    "    Worker_Type = repeat(worker_names, inner = time_horizon_T+1),\n",
    "    Date = repeat(date_list, outer = num_workertype_w),\n",
    "    Workers_Fired = collect(Iterators.flatten(eachrow(fired_F_round))),\n",
    "    Workers_Hired = collect(Iterators.flatten(eachrow(hired_H_round))),\n",
    "    Worker_Level = collect(Iterators.flatten(eachrow(aggregated_workerlevel_Wwt_round)))\n",
    "    )\n",
    "\n",
    "    return objective_value(model), aggregated_workerlevel_Wwt_round, hired_H_round, fired_F_round, inventory_I_round, production_P_round, overtime_O_round, backlogging_B_round, idle_U_round, subcontract_S_round, worker_df, production_df\n",
    "end  "
   ]
  },
  {
   "cell_type": "code",
   "execution_count": 24,
   "metadata": {},
   "outputs": [
    {
     "ename": "LoadError",
     "evalue": "MethodError: no method matching optimise(::Int64, ::Int64, ::Int64, ::Matrix{Any}, ::Matrix{Any}, ::Int64, ::Int64, ::Float64, ::Float64, ::Float64, ::Int64, ::Int64, ::Int64, ::Vector{String}, ::Vector{String}, ::Vector{Any})\n\n\u001b[0mClosest candidates are:\n\u001b[0m  optimise(::Any, ::Any, ::Any, ::Any, ::Any, ::Any, ::Any, ::Any, ::Any, ::Any, ::Any, ::Any, ::Any, ::Any, ::Any, ::Any, \u001b[91m::Any\u001b[39m, \u001b[91m::Any\u001b[39m)\n\u001b[0m\u001b[90m   @\u001b[39m \u001b[35mMain\u001b[39m \u001b[90m\u001b[4mIn[23]:23\u001b[24m\u001b[39m\n",
     "output_type": "error",
     "traceback": [
      "MethodError: no method matching optimise(::Int64, ::Int64, ::Int64, ::Matrix{Any}, ::Matrix{Any}, ::Int64, ::Int64, ::Float64, ::Float64, ::Float64, ::Int64, ::Int64, ::Int64, ::Vector{String}, ::Vector{String}, ::Vector{Any})\n\n\u001b[0mClosest candidates are:\n\u001b[0m  optimise(::Any, ::Any, ::Any, ::Any, ::Any, ::Any, ::Any, ::Any, ::Any, ::Any, ::Any, ::Any, ::Any, ::Any, ::Any, ::Any, \u001b[91m::Any\u001b[39m, \u001b[91m::Any\u001b[39m)\n\u001b[0m\u001b[90m   @\u001b[39m \u001b[35mMain\u001b[39m \u001b[90m\u001b[4mIn[23]:23\u001b[24m\u001b[39m\n",
      "",
      "Stacktrace:",
      " [1] top-level scope",
      "   @ In[24]:1"
     ]
    }
   ],
   "source": [
    "result = optimise(num_products_p,num_workertype_w,time_horizon_T,demand_D,productionrate_K,cost_hiring_cH, cost_firing_cF,cost_inventory_cI,cost_labour_cR,cost_overtime_cO,cost_backlogging_cB,cost_idle_cU,cost_subcontract_cS,product_names,date_list,worker_names)"
   ]
  },
  {
   "cell_type": "code",
   "execution_count": 25,
   "metadata": {},
   "outputs": [
    {
     "ename": "LoadError",
     "evalue": "UndefVarError: `result` not defined",
     "output_type": "error",
     "traceback": [
      "UndefVarError: `result` not defined",
      "",
      "Stacktrace:",
      " [1] top-level scope",
      "   @ In[25]:1"
     ]
    }
   ],
   "source": [
    "println(result[1])\n",
    "println(result[2])\n",
    "println(result[3])\n",
    "println(result[4])\n",
    "println(result[5])\n",
    "println(result[6])\n",
    "println(result[7])\n",
    "println(result[8])\n",
    "println(result[9])\n",
    "println(result[10])\n",
    "println(result[11])\n",
    "println(result[12])\n",
    "#println(result[13])"
   ]
  },
  {
   "cell_type": "code",
   "execution_count": 26,
   "metadata": {},
   "outputs": [
    {
     "data": {
      "text/plain": [
       "2-dimensional DenseAxisArray{Float64,2,...} with index sets:\n",
       "    Dimension 1, Base.OneTo(4)\n",
       "    Dimension 2, 0:24\n",
       "And data, a 4×25 Matrix{Float64}:\n",
       " 150.0  -0.0  -0.0  -0.0  -0.0  -0.0  …  -0.0  -0.0  -0.0  -0.0  -0.0  0.0\n",
       " 120.0  -0.0  -0.0  -0.0  -0.0  -0.0     -0.0  -0.0  -0.0  -0.0  -0.0  0.0\n",
       "  30.0  -0.0  -0.0  -0.0  -0.0  -0.0     -0.0  -0.0  -0.0  -0.0  -0.0  0.0\n",
       "   0.0  -0.0  -0.0  -0.0  -0.0  -0.0     -0.0  -0.0  -0.0  -0.0  -0.0  0.0"
      ]
     },
     "execution_count": 26,
     "metadata": {},
     "output_type": "execute_result"
    }
   ],
   "source": [
    "#now i have 25 periods, i want to cut period 0\n",
    "value.(inventory_I)\n"
   ]
  },
  {
   "cell_type": "code",
   "execution_count": null,
   "metadata": {},
   "outputs": [
    {
     "name": "stdout",
     "output_type": "stream",
     "text": [
      "2-dimensional DenseAxisArray{Float64,2,...} with index sets:\n",
      "    Dimension 1, Base.OneTo(4)\n",
      "    Dimension 2, 0:24\n",
      "And data, a 4×25 Matrix{Float64}:\n",
      " 150.0   -0.0  -0.0  -0.0  -0.0  -0.0  -0.0  -0.0  -0.0  -0.0  -0.0  -0.0  -0.0  -0.0  -0.0  -0.0  -0.0  -0.0  -0.0  -0.0  -0.0  -0.0  -0.0  -0.0  0.0\n",
      " 120.0   53.0  -0.0  -0.0  -0.0  -0.0  -0.0  -0.0  -0.0  -0.0  -0.0  -0.0  -0.0  -0.0  -0.0   2.0  -0.0  -0.0   2.0  -0.0  -0.0  -0.0  -0.0  -0.0  0.0\n",
      "  30.0  925.0  -0.0  -0.0  -0.0  -0.0  -0.0  -0.0  -0.0  -0.0  -0.0  -0.0  -0.0  -0.0  -0.0   2.0  -0.0  -0.0   2.0  -0.0  -0.0  -0.0  -0.0  -0.0  0.0\n",
      "   0.0   62.0  -0.0  -0.0  -0.0  -0.0  -0.0  -0.0  -0.0  -0.0  -0.0  -0.0  -0.0  -0.0  -0.0  -0.0  -0.0  -0.0  -0.0  -0.0  -0.0  -0.0   2.0  -0.0  0.02-dimensional DenseAxisArray{Float64,2,...} with index sets:\n",
      "    Dimension 1, Base.OneTo(4)\n",
      "    Dimension 2, 0:24\n",
      "And data, a 4×25 Matrix{Float64}:\n",
      " 0.0  -0.0  -0.0  -0.0  -0.0  -0.0  -0.0  -0.0  -0.0  -0.0  -0.0  -0.0  -0.0  -0.0  -0.0  -0.0  -0.0  -0.0  -0.0  -0.0  -0.0  -0.0  -0.0  -0.0  -0.0\n",
      " 0.0  -0.0  -0.0  -0.0  -0.0  -0.0  -0.0  -0.0  -0.0  -0.0  -0.0  -0.0  -0.0  -0.0  -0.0  -0.0  -0.0  -0.0  -0.0  -0.0  -0.0  -0.0  -0.0  -0.0  -0.0\n",
      " 0.0  -0.0  -0.0  -0.0  -0.0  -0.0  -0.0  -0.0  -0.0  -0.0  -0.0  -0.0  -0.0  -0.0  -0.0  -0.0  -0.0  -0.0  -0.0  -0.0  -0.0  -0.0  -0.0  -0.0  -0.0\n",
      " 0.0  -0.0  -0.0  -0.0  -0.0  -0.0  -0.0  -0.0  -0.0  -0.0  -0.0  -0.0  -0.0  -0.0  -0.0  -0.0  -0.0  -0.0  -0.0  -0.0  -0.0  -0.0  -0.0  -0.0  -0.0"
     ]
    }
   ],
   "source": [
    "print(value.(inventory_I))\n",
    "print(value.(backlogging_B))\n",
    "#remove time period 0"
   ]
  },
  {
   "cell_type": "code",
   "execution_count": null,
   "metadata": {},
   "outputs": [
    {
     "data": {
      "text/plain": [
       "4×25 Matrix{Any}:\n",
       " 0  5860  7500  5896  2964  5188  1464  …  5352  3032  3040  4596  2460  3916\n",
       " 0  2392  4300  2468  6064  2304  1092     1648  2804  3872   440  5660  1840\n",
       " 0  2128  2860   556  2340  3004  1776     1552  1628  3232  2120  2708  2176\n",
       " 0   616   812   612  1276   728   900     1004   664   560   932   824   452"
      ]
     },
     "execution_count": 94,
     "metadata": {},
     "output_type": "execute_result"
    }
   ],
   "source": [
    "\n",
    "production_P_round = round.(Int,value.(production_P))\n",
    "overtime_O_round = round.(Int,value.(overtime_O))\n",
    "backlogging_B_round = round.(Int,value.(backlogging_B))\n",
    "idle_U_round = round.(Int,value.(idle_U))\n",
    "subcontract_S_round = round.(Int,value.(subcontract_S))\n",
    "inventory_I_round = round.(Int,value.(inventory_I))\n",
    "zero_column_round = round.(Int,zeros(num_products_p,1)) #for demand, because it is 4x24, didnt include the intiial time period\n",
    "demand_D_round = hcat(zero_column_round, demand_D) #transforms demand into 4x25"
   ]
  },
  {
   "cell_type": "code",
   "execution_count": null,
   "metadata": {},
   "outputs": [
    {
     "data": {
      "text/html": [
       "<div><div style = \"float: left;\"><span>100×9 DataFrame</span></div><div style = \"float: right;\"><span style = \"font-style: italic;\">75 rows omitted</span></div><div style = \"clear: both;\"></div></div><div class = \"data-frame\" style = \"overflow-x: scroll;\"><table class = \"data-frame\" style = \"margin-bottom: 6px;\"><thead><tr class = \"header\"><th class = \"rowNumber\" style = \"font-weight: bold; text-align: right;\">Row</th><th style = \"text-align: left;\">Product_Name</th><th style = \"text-align: left;\">Date</th><th style = \"text-align: left;\">Demand</th><th style = \"text-align: left;\">Inventory</th><th style = \"text-align: left;\">Production</th><th style = \"text-align: left;\">Overtime</th><th style = \"text-align: left;\">Backlogging</th><th style = \"text-align: left;\">Idle</th><th style = \"text-align: left;\">Subcontract</th></tr><tr class = \"subheader headerLastRow\"><th class = \"rowNumber\" style = \"font-weight: bold; text-align: right;\"></th><th title = \"String\" style = \"text-align: left;\">String</th><th title = \"String\" style = \"text-align: left;\">String</th><th title = \"Any\" style = \"text-align: left;\">Any</th><th title = \"Int64\" style = \"text-align: left;\">Int64</th><th title = \"Int64\" style = \"text-align: left;\">Int64</th><th title = \"Int64\" style = \"text-align: left;\">Int64</th><th title = \"Int64\" style = \"text-align: left;\">Int64</th><th title = \"Int64\" style = \"text-align: left;\">Int64</th><th title = \"Int64\" style = \"text-align: left;\">Int64</th></tr></thead><tbody><tr><td class = \"rowNumber\" style = \"font-weight: bold; text-align: right;\">1</td><td style = \"text-align: left;\">XC_60 Gent</td><td style = \"text-align: left;\">2023-12-01</td><td style = \"text-align: left;\">0</td><td style = \"text-align: right;\">150</td><td style = \"text-align: right;\">0</td><td style = \"text-align: right;\">0</td><td style = \"text-align: right;\">0</td><td style = \"text-align: right;\">0</td><td style = \"text-align: right;\">0</td></tr><tr><td class = \"rowNumber\" style = \"font-weight: bold; text-align: right;\">2</td><td style = \"text-align: left;\">XC_60 Gent</td><td style = \"text-align: left;\">2024-01-01</td><td style = \"text-align: left;\">5860</td><td style = \"text-align: right;\">0</td><td style = \"text-align: right;\">5710</td><td style = \"text-align: right;\">0</td><td style = \"text-align: right;\">0</td><td style = \"text-align: right;\">0</td><td style = \"text-align: right;\">0</td></tr><tr><td class = \"rowNumber\" style = \"font-weight: bold; text-align: right;\">3</td><td style = \"text-align: left;\">XC_60 Gent</td><td style = \"text-align: left;\">2024-02-01</td><td style = \"text-align: left;\">7500</td><td style = \"text-align: right;\">0</td><td style = \"text-align: right;\">7500</td><td style = \"text-align: right;\">0</td><td style = \"text-align: right;\">0</td><td style = \"text-align: right;\">0</td><td style = \"text-align: right;\">0</td></tr><tr><td class = \"rowNumber\" style = \"font-weight: bold; text-align: right;\">4</td><td style = \"text-align: left;\">XC_60 Gent</td><td style = \"text-align: left;\">2024-03-01</td><td style = \"text-align: left;\">5896</td><td style = \"text-align: right;\">0</td><td style = \"text-align: right;\">5896</td><td style = \"text-align: right;\">0</td><td style = \"text-align: right;\">0</td><td style = \"text-align: right;\">0</td><td style = \"text-align: right;\">0</td></tr><tr><td class = \"rowNumber\" style = \"font-weight: bold; text-align: right;\">5</td><td style = \"text-align: left;\">XC_60 Gent</td><td style = \"text-align: left;\">2024-04-01</td><td style = \"text-align: left;\">2964</td><td style = \"text-align: right;\">0</td><td style = \"text-align: right;\">2964</td><td style = \"text-align: right;\">0</td><td style = \"text-align: right;\">0</td><td style = \"text-align: right;\">0</td><td style = \"text-align: right;\">0</td></tr><tr><td class = \"rowNumber\" style = \"font-weight: bold; text-align: right;\">6</td><td style = \"text-align: left;\">XC_60 Gent</td><td style = \"text-align: left;\">2024-05-01</td><td style = \"text-align: left;\">5188</td><td style = \"text-align: right;\">0</td><td style = \"text-align: right;\">5188</td><td style = \"text-align: right;\">0</td><td style = \"text-align: right;\">0</td><td style = \"text-align: right;\">0</td><td style = \"text-align: right;\">0</td></tr><tr><td class = \"rowNumber\" style = \"font-weight: bold; text-align: right;\">7</td><td style = \"text-align: left;\">XC_60 Gent</td><td style = \"text-align: left;\">2024-06-01</td><td style = \"text-align: left;\">1464</td><td style = \"text-align: right;\">0</td><td style = \"text-align: right;\">1464</td><td style = \"text-align: right;\">0</td><td style = \"text-align: right;\">0</td><td style = \"text-align: right;\">0</td><td style = \"text-align: right;\">0</td></tr><tr><td class = \"rowNumber\" style = \"font-weight: bold; text-align: right;\">8</td><td style = \"text-align: left;\">XC_60 Gent</td><td style = \"text-align: left;\">2024-07-01</td><td style = \"text-align: left;\">3880</td><td style = \"text-align: right;\">0</td><td style = \"text-align: right;\">3880</td><td style = \"text-align: right;\">0</td><td style = \"text-align: right;\">0</td><td style = \"text-align: right;\">0</td><td style = \"text-align: right;\">0</td></tr><tr><td class = \"rowNumber\" style = \"font-weight: bold; text-align: right;\">9</td><td style = \"text-align: left;\">XC_60 Gent</td><td style = \"text-align: left;\">2024-08-01</td><td style = \"text-align: left;\">4192</td><td style = \"text-align: right;\">0</td><td style = \"text-align: right;\">4192</td><td style = \"text-align: right;\">0</td><td style = \"text-align: right;\">0</td><td style = \"text-align: right;\">0</td><td style = \"text-align: right;\">0</td></tr><tr><td class = \"rowNumber\" style = \"font-weight: bold; text-align: right;\">10</td><td style = \"text-align: left;\">XC_60 Gent</td><td style = \"text-align: left;\">2024-09-01</td><td style = \"text-align: left;\">2580</td><td style = \"text-align: right;\">0</td><td style = \"text-align: right;\">2580</td><td style = \"text-align: right;\">0</td><td style = \"text-align: right;\">0</td><td style = \"text-align: right;\">0</td><td style = \"text-align: right;\">0</td></tr><tr><td class = \"rowNumber\" style = \"font-weight: bold; text-align: right;\">11</td><td style = \"text-align: left;\">XC_60 Gent</td><td style = \"text-align: left;\">2024-10-01</td><td style = \"text-align: left;\">5328</td><td style = \"text-align: right;\">0</td><td style = \"text-align: right;\">5328</td><td style = \"text-align: right;\">0</td><td style = \"text-align: right;\">0</td><td style = \"text-align: right;\">0</td><td style = \"text-align: right;\">0</td></tr><tr><td class = \"rowNumber\" style = \"font-weight: bold; text-align: right;\">12</td><td style = \"text-align: left;\">XC_60 Gent</td><td style = \"text-align: left;\">2024-11-01</td><td style = \"text-align: left;\">5208</td><td style = \"text-align: right;\">0</td><td style = \"text-align: right;\">5208</td><td style = \"text-align: right;\">0</td><td style = \"text-align: right;\">0</td><td style = \"text-align: right;\">0</td><td style = \"text-align: right;\">0</td></tr><tr><td class = \"rowNumber\" style = \"font-weight: bold; text-align: right;\">13</td><td style = \"text-align: left;\">XC_60 Gent</td><td style = \"text-align: left;\">2024-12-01</td><td style = \"text-align: left;\">6032</td><td style = \"text-align: right;\">0</td><td style = \"text-align: right;\">6032</td><td style = \"text-align: right;\">0</td><td style = \"text-align: right;\">0</td><td style = \"text-align: right;\">0</td><td style = \"text-align: right;\">0</td></tr><tr><td style = \"text-align: right;\">&vellip;</td><td style = \"text-align: right;\">&vellip;</td><td style = \"text-align: right;\">&vellip;</td><td style = \"text-align: right;\">&vellip;</td><td style = \"text-align: right;\">&vellip;</td><td style = \"text-align: right;\">&vellip;</td><td style = \"text-align: right;\">&vellip;</td><td style = \"text-align: right;\">&vellip;</td><td style = \"text-align: right;\">&vellip;</td><td style = \"text-align: right;\">&vellip;</td></tr><tr><td class = \"rowNumber\" style = \"font-weight: bold; text-align: right;\">89</td><td style = \"text-align: left;\">Mondeo</td><td style = \"text-align: left;\">2025-01-01</td><td style = \"text-align: left;\">1180</td><td style = \"text-align: right;\">0</td><td style = \"text-align: right;\">1180</td><td style = \"text-align: right;\">0</td><td style = \"text-align: right;\">0</td><td style = \"text-align: right;\">0</td><td style = \"text-align: right;\">0</td></tr><tr><td class = \"rowNumber\" style = \"font-weight: bold; text-align: right;\">90</td><td style = \"text-align: left;\">Mondeo</td><td style = \"text-align: left;\">2025-02-01</td><td style = \"text-align: left;\">628</td><td style = \"text-align: right;\">0</td><td style = \"text-align: right;\">628</td><td style = \"text-align: right;\">0</td><td style = \"text-align: right;\">0</td><td style = \"text-align: right;\">0</td><td style = \"text-align: right;\">0</td></tr><tr><td class = \"rowNumber\" style = \"font-weight: bold; text-align: right;\">91</td><td style = \"text-align: left;\">Mondeo</td><td style = \"text-align: left;\">2025-03-01</td><td style = \"text-align: left;\">720</td><td style = \"text-align: right;\">0</td><td style = \"text-align: right;\">720</td><td style = \"text-align: right;\">0</td><td style = \"text-align: right;\">0</td><td style = \"text-align: right;\">0</td><td style = \"text-align: right;\">0</td></tr><tr><td class = \"rowNumber\" style = \"font-weight: bold; text-align: right;\">92</td><td style = \"text-align: left;\">Mondeo</td><td style = \"text-align: left;\">2025-04-01</td><td style = \"text-align: left;\">780</td><td style = \"text-align: right;\">0</td><td style = \"text-align: right;\">780</td><td style = \"text-align: right;\">0</td><td style = \"text-align: right;\">0</td><td style = \"text-align: right;\">0</td><td style = \"text-align: right;\">0</td></tr><tr><td class = \"rowNumber\" style = \"font-weight: bold; text-align: right;\">93</td><td style = \"text-align: left;\">Mondeo</td><td style = \"text-align: left;\">2025-05-01</td><td style = \"text-align: left;\">984</td><td style = \"text-align: right;\">0</td><td style = \"text-align: right;\">984</td><td style = \"text-align: right;\">0</td><td style = \"text-align: right;\">0</td><td style = \"text-align: right;\">0</td><td style = \"text-align: right;\">0</td></tr><tr><td class = \"rowNumber\" style = \"font-weight: bold; text-align: right;\">94</td><td style = \"text-align: left;\">Mondeo</td><td style = \"text-align: left;\">2025-06-01</td><td style = \"text-align: left;\">652</td><td style = \"text-align: right;\">0</td><td style = \"text-align: right;\">652</td><td style = \"text-align: right;\">0</td><td style = \"text-align: right;\">0</td><td style = \"text-align: right;\">0</td><td style = \"text-align: right;\">0</td></tr><tr><td class = \"rowNumber\" style = \"font-weight: bold; text-align: right;\">95</td><td style = \"text-align: left;\">Mondeo</td><td style = \"text-align: left;\">2025-07-01</td><td style = \"text-align: left;\">1004</td><td style = \"text-align: right;\">0</td><td style = \"text-align: right;\">1004</td><td style = \"text-align: right;\">0</td><td style = \"text-align: right;\">0</td><td style = \"text-align: right;\">0</td><td style = \"text-align: right;\">0</td></tr><tr><td class = \"rowNumber\" style = \"font-weight: bold; text-align: right;\">96</td><td style = \"text-align: left;\">Mondeo</td><td style = \"text-align: left;\">2025-08-01</td><td style = \"text-align: left;\">664</td><td style = \"text-align: right;\">0</td><td style = \"text-align: right;\">664</td><td style = \"text-align: right;\">0</td><td style = \"text-align: right;\">0</td><td style = \"text-align: right;\">0</td><td style = \"text-align: right;\">0</td></tr><tr><td class = \"rowNumber\" style = \"font-weight: bold; text-align: right;\">97</td><td style = \"text-align: left;\">Mondeo</td><td style = \"text-align: left;\">2025-09-01</td><td style = \"text-align: left;\">560</td><td style = \"text-align: right;\">0</td><td style = \"text-align: right;\">560</td><td style = \"text-align: right;\">0</td><td style = \"text-align: right;\">0</td><td style = \"text-align: right;\">0</td><td style = \"text-align: right;\">0</td></tr><tr><td class = \"rowNumber\" style = \"font-weight: bold; text-align: right;\">98</td><td style = \"text-align: left;\">Mondeo</td><td style = \"text-align: left;\">2025-10-01</td><td style = \"text-align: left;\">932</td><td style = \"text-align: right;\">2</td><td style = \"text-align: right;\">934</td><td style = \"text-align: right;\">0</td><td style = \"text-align: right;\">0</td><td style = \"text-align: right;\">0</td><td style = \"text-align: right;\">0</td></tr><tr><td class = \"rowNumber\" style = \"font-weight: bold; text-align: right;\">99</td><td style = \"text-align: left;\">Mondeo</td><td style = \"text-align: left;\">2025-11-01</td><td style = \"text-align: left;\">824</td><td style = \"text-align: right;\">0</td><td style = \"text-align: right;\">822</td><td style = \"text-align: right;\">0</td><td style = \"text-align: right;\">0</td><td style = \"text-align: right;\">0</td><td style = \"text-align: right;\">0</td></tr><tr><td class = \"rowNumber\" style = \"font-weight: bold; text-align: right;\">100</td><td style = \"text-align: left;\">Mondeo</td><td style = \"text-align: left;\">2025-12-01</td><td style = \"text-align: left;\">452</td><td style = \"text-align: right;\">0</td><td style = \"text-align: right;\">452</td><td style = \"text-align: right;\">0</td><td style = \"text-align: right;\">0</td><td style = \"text-align: right;\">0</td><td style = \"text-align: right;\">0</td></tr></tbody></table></div>"
      ],
      "text/latex": [
       "\\begin{tabular}{r|cccccccc}\n",
       "\t& Product\\_Name & Date & Demand & Inventory & Production & Overtime & Backlogging & \\\\\n",
       "\t\\hline\n",
       "\t& String & String & Any & Int64 & Int64 & Int64 & Int64 & \\\\\n",
       "\t\\hline\n",
       "\t1 & XC\\_60 Gent & 2023-12-01 & 0 & 150 & 0 & 0 & 0 & $\\dots$ \\\\\n",
       "\t2 & XC\\_60 Gent & 2024-01-01 & 5860 & 0 & 5710 & 0 & 0 & $\\dots$ \\\\\n",
       "\t3 & XC\\_60 Gent & 2024-02-01 & 7500 & 0 & 7500 & 0 & 0 & $\\dots$ \\\\\n",
       "\t4 & XC\\_60 Gent & 2024-03-01 & 5896 & 0 & 5896 & 0 & 0 & $\\dots$ \\\\\n",
       "\t5 & XC\\_60 Gent & 2024-04-01 & 2964 & 0 & 2964 & 0 & 0 & $\\dots$ \\\\\n",
       "\t6 & XC\\_60 Gent & 2024-05-01 & 5188 & 0 & 5188 & 0 & 0 & $\\dots$ \\\\\n",
       "\t7 & XC\\_60 Gent & 2024-06-01 & 1464 & 0 & 1464 & 0 & 0 & $\\dots$ \\\\\n",
       "\t8 & XC\\_60 Gent & 2024-07-01 & 3880 & 0 & 3880 & 0 & 0 & $\\dots$ \\\\\n",
       "\t9 & XC\\_60 Gent & 2024-08-01 & 4192 & 0 & 4192 & 0 & 0 & $\\dots$ \\\\\n",
       "\t10 & XC\\_60 Gent & 2024-09-01 & 2580 & 0 & 2580 & 0 & 0 & $\\dots$ \\\\\n",
       "\t11 & XC\\_60 Gent & 2024-10-01 & 5328 & 0 & 5328 & 0 & 0 & $\\dots$ \\\\\n",
       "\t12 & XC\\_60 Gent & 2024-11-01 & 5208 & 0 & 5208 & 0 & 0 & $\\dots$ \\\\\n",
       "\t13 & XC\\_60 Gent & 2024-12-01 & 6032 & 0 & 6032 & 0 & 0 & $\\dots$ \\\\\n",
       "\t14 & XC\\_60 Gent & 2025-01-01 & 4344 & 0 & 4344 & 0 & 0 & $\\dots$ \\\\\n",
       "\t15 & XC\\_60 Gent & 2025-02-01 & 6728 & 0 & 6728 & 0 & 0 & $\\dots$ \\\\\n",
       "\t16 & XC\\_60 Gent & 2025-03-01 & 5084 & 0 & 5084 & 0 & 0 & $\\dots$ \\\\\n",
       "\t17 & XC\\_60 Gent & 2025-04-01 & 4264 & 0 & 4264 & 0 & 0 & $\\dots$ \\\\\n",
       "\t18 & XC\\_60 Gent & 2025-05-01 & 5840 & 0 & 5840 & 0 & 0 & $\\dots$ \\\\\n",
       "\t19 & XC\\_60 Gent & 2025-06-01 & 3716 & 0 & 3716 & 0 & 0 & $\\dots$ \\\\\n",
       "\t20 & XC\\_60 Gent & 2025-07-01 & 5352 & 0 & 5352 & 0 & 0 & $\\dots$ \\\\\n",
       "\t21 & XC\\_60 Gent & 2025-08-01 & 3032 & 0 & 3032 & 0 & 0 & $\\dots$ \\\\\n",
       "\t22 & XC\\_60 Gent & 2025-09-01 & 3040 & 0 & 3040 & 0 & 0 & $\\dots$ \\\\\n",
       "\t23 & XC\\_60 Gent & 2025-10-01 & 4596 & 0 & 4596 & 0 & 0 & $\\dots$ \\\\\n",
       "\t24 & XC\\_60 Gent & 2025-11-01 & 2460 & 0 & 2460 & 0 & 0 & $\\dots$ \\\\\n",
       "\t25 & XC\\_60 Gent & 2025-12-01 & 3916 & 0 & 3916 & 0 & 0 & $\\dots$ \\\\\n",
       "\t26 & XC\\_60 China & 2023-12-01 & 0 & 120 & 0 & 0 & 0 & $\\dots$ \\\\\n",
       "\t27 & XC\\_60 China & 2024-01-01 & 2392 & 53 & 2325 & 0 & 0 & $\\dots$ \\\\\n",
       "\t28 & XC\\_60 China & 2024-02-01 & 4300 & 0 & 4247 & 0 & 0 & $\\dots$ \\\\\n",
       "\t29 & XC\\_60 China & 2024-03-01 & 2468 & 0 & 2466 & 0 & 0 & $\\dots$ \\\\\n",
       "\t30 & XC\\_60 China & 2024-04-01 & 6064 & 0 & 6064 & 0 & 0 & $\\dots$ \\\\\n",
       "\t$\\dots$ & $\\dots$ & $\\dots$ & $\\dots$ & $\\dots$ & $\\dots$ & $\\dots$ & $\\dots$ &  \\\\\n",
       "\\end{tabular}\n"
      ],
      "text/plain": [
       "\u001b[1m100×9 DataFrame\u001b[0m\n",
       "\u001b[1m Row \u001b[0m│\u001b[1m Product_Name \u001b[0m\u001b[1m Date       \u001b[0m\u001b[1m Demand \u001b[0m\u001b[1m Inventory \u001b[0m\u001b[1m Production \u001b[0m\u001b[1m Overtime \u001b[0m\u001b[1m Back\u001b[0m ⋯\n",
       "     │\u001b[90m String       \u001b[0m\u001b[90m String     \u001b[0m\u001b[90m Any    \u001b[0m\u001b[90m Int64     \u001b[0m\u001b[90m Int64      \u001b[0m\u001b[90m Int64    \u001b[0m\u001b[90m Int6\u001b[0m ⋯\n",
       "─────┼──────────────────────────────────────────────────────────────────────────\n",
       "   1 │ XC_60 Gent    2023-12-01  0             150           0         0       ⋯\n",
       "   2 │ XC_60 Gent    2024-01-01  5860            0        5710         0\n",
       "   3 │ XC_60 Gent    2024-02-01  7500            0        7500         0\n",
       "   4 │ XC_60 Gent    2024-03-01  5896            0        5896         0\n",
       "   5 │ XC_60 Gent    2024-04-01  2964            0        2964         0       ⋯\n",
       "   6 │ XC_60 Gent    2024-05-01  5188            0        5188         0\n",
       "   7 │ XC_60 Gent    2024-06-01  1464            0        1464         0\n",
       "   8 │ XC_60 Gent    2024-07-01  3880            0        3880         0\n",
       "   9 │ XC_60 Gent    2024-08-01  4192            0        4192         0       ⋯\n",
       "  10 │ XC_60 Gent    2024-09-01  2580            0        2580         0\n",
       "  11 │ XC_60 Gent    2024-10-01  5328            0        5328         0\n",
       "  ⋮  │      ⋮            ⋮         ⋮         ⋮          ⋮          ⋮           ⋱\n",
       "  91 │ Mondeo        2025-03-01  720             0         720         0\n",
       "  92 │ Mondeo        2025-04-01  780             0         780         0       ⋯\n",
       "  93 │ Mondeo        2025-05-01  984             0         984         0\n",
       "  94 │ Mondeo        2025-06-01  652             0         652         0\n",
       "  95 │ Mondeo        2025-07-01  1004            0        1004         0\n",
       "  96 │ Mondeo        2025-08-01  664             0         664         0       ⋯\n",
       "  97 │ Mondeo        2025-09-01  560             0         560         0\n",
       "  98 │ Mondeo        2025-10-01  932             2         934         0\n",
       "  99 │ Mondeo        2025-11-01  824             0         822         0\n",
       " 100 │ Mondeo        2025-12-01  452             0         452         0       ⋯\n",
       "\u001b[36m                                                   3 columns and 79 rows omitted\u001b[0m"
      ]
     },
     "execution_count": 309,
     "metadata": {},
     "output_type": "execute_result"
    }
   ],
   "source": [
    "production_df = DataFrame(\n",
    "    Product_Name = repeat(product_names, inner = time_horizon_T+1), #to include the initial date (NOT in forecast)\n",
    "    Date = repeat(date_list, outer = num_products_p),\n",
    "    Demand = collect(Iterators.flatten(eachrow(demand_D_round))),\n",
    "    Inventory = collect(Iterators.flatten(eachrow(inventory_I_round))),\n",
    "    Production = collect(Iterators.flatten(eachrow(production_P_round))),\n",
    "    Overtime = collect(Iterators.flatten(eachrow(overtime_O_round))),\n",
    "    Backlogging = collect(Iterators.flatten(eachrow(backlogging_B_round))),\n",
    "    Idle = collect(Iterators.flatten(eachrow(idle_U_round))),\n",
    "    Subcontract = collect(Iterators.flatten(eachrow(subcontract_S_round))),\n",
    ")"
   ]
  },
  {
   "cell_type": "code",
   "execution_count": null,
   "metadata": {},
   "outputs": [
    {
     "name": "stdout",
     "output_type": "stream",
     "text": [
      "Any[0, 2128, 2860, 556, 2340, 3004, 1776, 2032, 2464, 1068, 2936, 1736, 1448, 2364, 2684, 2116]\n",
      "[30, 925, 0, 0, 0, 0, 0, 0, 0, 0, 0, 0, 0, 0, 0, 2]\n",
      "[0, 3023, 1935, 556, 2340, 3000, 1776, 2032, 2464, 1068, 2936, 1736, 1448, 2364, 2684, 2118]\n",
      "[0, 0, 0, 0, 0, 0, 0, 0, 0, 0, 0, 0, 0, 0, 0, 0]\n",
      "[0, 0, 0, 0, 0, 0, 0, 0, 0, 0, 0, 0, 0, 0, 0, 0]\n",
      "[0, 0, 0, 0, 0, 0, 0, 0, 0, 0, 0, 0, 0, 0, 0, 0]\n",
      "[0, 0, 0, 0, 0, 4, 0, 0, 0, 0, 0, 0, 0, 0, 0, 0]\n"
     ]
    }
   ],
   "source": [
    "selected_product = \"Kuga\" \n",
    "start_date = \"2023-02-30\"\n",
    "end_date = \"2025-03-02\"\n",
    "production_df_copy = copy(production_df)\n",
    "filter_production_df = filter!(row -> row.Product_Name == selected_product &&  start_date <= row.Date <= end_date, production_df_copy)\n",
    "demand_plot = filter_production_df.Demand\n",
    "inventory_plot = filter_production_df.Inventory\n",
    "production_plot = filter_production_df.Production\n",
    "overtime_plot = filter_production_df.Overtime\n",
    "backlogging_plot = filter_production_df.Backlogging\n",
    "idle_plot = filter_production_df.Idle\n",
    "subcontract_plot = filter_production_df.Subcontract\n",
    "\n",
    "println(demand_plot)\n",
    "println(inventory_plot)\n",
    "println(production_plot)\n",
    "println(overtime_plot)\n",
    "println(backlogging_plot)\n",
    "println(idle_plot)\n",
    "println(subcontract_plot)\n"
   ]
  },
  {
   "cell_type": "code",
   "execution_count": 24,
   "metadata": {},
   "outputs": [
    {
     "name": "stdout",
     "output_type": "stream",
     "text": [
      "2-dimensional DenseAxisArray{Int64,2,...} with index sets:\n",
      "    Dimension 1, Base.OneTo(3)\n",
      "    Dimension 2, 0:24\n",
      "And data, a 3×25 Matrix{Int64}:\n",
      " 0  0  0  0  0  0  0  0  0  0  0  0  0  0  0  0  0  0  0  0  0  0  0  0  0\n",
      " 0  0  0  0  0  0  0  0  0  0  0  0  0  0  0  0  0  0  0  0  0  0  0  0  0\n",
      " 0  0  0  0  0  0  0  0  0  0  0  0  0  0  0  0  0  0  0  0  0  0  0  0  0\n",
      "2-dimensional DenseAxisArray{Int64,2,...} with index sets:\n",
      "    Dimension 1, Base.OneTo(3)\n",
      "    Dimension 2, 0:24\n",
      "And data, a 3×25 Matrix{Int64}:\n",
      " 0  80  0  0  0  0  0  0  0  0  0  0  0  0  0  0  0  0  0  0  0  0  0  0  0\n",
      " 0  72  0  0  0  0  0  0  0  0  0  0  0  0  0  0  0  0  0  0  0  0  0  0  0\n",
      " 0  96  0  0  0  0  0  0  0  0  0  0  0  0  0  0  0  0  0  0  0  0  0  0  0\n"
     ]
    }
   ],
   "source": [
    "#Update to rounded integer values , for clarity\n",
    "fired_F_round = round.(Int,value.(fired_F))\n",
    "hired_H_round = round.(Int,value.(hired_H))\n",
    "println(fired_F_round)\n",
    "println(hired_H_round)"
   ]
  },
  {
   "cell_type": "code",
   "execution_count": 25,
   "metadata": {},
   "outputs": [
    {
     "name": "stdout",
     "output_type": "stream",
     "text": [
      "2-dimensional DenseAxisArray{Int64,2,...} with index sets:\n",
      "    Dimension 1, Base.OneTo(3)\n",
      "    Dimension 2, 0:24\n",
      "And data, a 3×25 Matrix{Int64}:\n",
      " 42  122  122  122  122  122  122  122  122  122  122  122  122  122  122  122  122  122  122  122  122  122  122  122  122\n",
      " 43  115  115  115  115  115  115  115  115  115  115  115  115  115  115  115  115  115  115  115  115  115  115  115  115\n",
      " 23  119  119  119  119  119  119  119  119  119  119  119  119  119  119  119  119  119  119  119  119  119  119  119  119\n"
     ]
    }
   ],
   "source": [
    "# Initialize result array with appropriate dimensions\n",
    "aggregated_workerlevel_Wwt_round = round.(Int,value.(aggregated_workerlevel_Wwt))\n",
    "\n",
    "println(aggregated_workerlevel_Wwt_round)"
   ]
  },
  {
   "cell_type": "code",
   "execution_count": 26,
   "metadata": {},
   "outputs": [
    {
     "data": {
      "text/html": [
       "<div><div style = \"float: left;\"><span>75×5 DataFrame</span></div><div style = \"float: right;\"><span style = \"font-style: italic;\">50 rows omitted</span></div><div style = \"clear: both;\"></div></div><div class = \"data-frame\" style = \"overflow-x: scroll;\"><table class = \"data-frame\" style = \"margin-bottom: 6px;\"><thead><tr class = \"header\"><th class = \"rowNumber\" style = \"font-weight: bold; text-align: right;\">Row</th><th style = \"text-align: left;\">Worker_Type</th><th style = \"text-align: left;\">Date</th><th style = \"text-align: left;\">Workers_Fired</th><th style = \"text-align: left;\">Workers_Hired</th><th style = \"text-align: left;\">Worker_Level</th></tr><tr class = \"subheader headerLastRow\"><th class = \"rowNumber\" style = \"font-weight: bold; text-align: right;\"></th><th title = \"Any\" style = \"text-align: left;\">Any</th><th title = \"String\" style = \"text-align: left;\">String</th><th title = \"Int64\" style = \"text-align: left;\">Int64</th><th title = \"Int64\" style = \"text-align: left;\">Int64</th><th title = \"Int64\" style = \"text-align: left;\">Int64</th></tr></thead><tbody><tr><td class = \"rowNumber\" style = \"font-weight: bold; text-align: right;\">1</td><td style = \"text-align: left;\">Assembler</td><td style = \"text-align: left;\">2023-12-01</td><td style = \"text-align: right;\">0</td><td style = \"text-align: right;\">0</td><td style = \"text-align: right;\">42</td></tr><tr><td class = \"rowNumber\" style = \"font-weight: bold; text-align: right;\">2</td><td style = \"text-align: left;\">Assembler</td><td style = \"text-align: left;\">2024-01-01</td><td style = \"text-align: right;\">0</td><td style = \"text-align: right;\">80</td><td style = \"text-align: right;\">122</td></tr><tr><td class = \"rowNumber\" style = \"font-weight: bold; text-align: right;\">3</td><td style = \"text-align: left;\">Assembler</td><td style = \"text-align: left;\">2024-02-01</td><td style = \"text-align: right;\">0</td><td style = \"text-align: right;\">0</td><td style = \"text-align: right;\">122</td></tr><tr><td class = \"rowNumber\" style = \"font-weight: bold; text-align: right;\">4</td><td style = \"text-align: left;\">Assembler</td><td style = \"text-align: left;\">2024-03-01</td><td style = \"text-align: right;\">0</td><td style = \"text-align: right;\">0</td><td style = \"text-align: right;\">122</td></tr><tr><td class = \"rowNumber\" style = \"font-weight: bold; text-align: right;\">5</td><td style = \"text-align: left;\">Assembler</td><td style = \"text-align: left;\">2024-04-01</td><td style = \"text-align: right;\">0</td><td style = \"text-align: right;\">0</td><td style = \"text-align: right;\">122</td></tr><tr><td class = \"rowNumber\" style = \"font-weight: bold; text-align: right;\">6</td><td style = \"text-align: left;\">Assembler</td><td style = \"text-align: left;\">2024-05-01</td><td style = \"text-align: right;\">0</td><td style = \"text-align: right;\">0</td><td style = \"text-align: right;\">122</td></tr><tr><td class = \"rowNumber\" style = \"font-weight: bold; text-align: right;\">7</td><td style = \"text-align: left;\">Assembler</td><td style = \"text-align: left;\">2024-06-01</td><td style = \"text-align: right;\">0</td><td style = \"text-align: right;\">0</td><td style = \"text-align: right;\">122</td></tr><tr><td class = \"rowNumber\" style = \"font-weight: bold; text-align: right;\">8</td><td style = \"text-align: left;\">Assembler</td><td style = \"text-align: left;\">2024-07-01</td><td style = \"text-align: right;\">0</td><td style = \"text-align: right;\">0</td><td style = \"text-align: right;\">122</td></tr><tr><td class = \"rowNumber\" style = \"font-weight: bold; text-align: right;\">9</td><td style = \"text-align: left;\">Assembler</td><td style = \"text-align: left;\">2024-08-01</td><td style = \"text-align: right;\">0</td><td style = \"text-align: right;\">0</td><td style = \"text-align: right;\">122</td></tr><tr><td class = \"rowNumber\" style = \"font-weight: bold; text-align: right;\">10</td><td style = \"text-align: left;\">Assembler</td><td style = \"text-align: left;\">2024-09-01</td><td style = \"text-align: right;\">0</td><td style = \"text-align: right;\">0</td><td style = \"text-align: right;\">122</td></tr><tr><td class = \"rowNumber\" style = \"font-weight: bold; text-align: right;\">11</td><td style = \"text-align: left;\">Assembler</td><td style = \"text-align: left;\">2024-10-01</td><td style = \"text-align: right;\">0</td><td style = \"text-align: right;\">0</td><td style = \"text-align: right;\">122</td></tr><tr><td class = \"rowNumber\" style = \"font-weight: bold; text-align: right;\">12</td><td style = \"text-align: left;\">Assembler</td><td style = \"text-align: left;\">2024-11-01</td><td style = \"text-align: right;\">0</td><td style = \"text-align: right;\">0</td><td style = \"text-align: right;\">122</td></tr><tr><td class = \"rowNumber\" style = \"font-weight: bold; text-align: right;\">13</td><td style = \"text-align: left;\">Assembler</td><td style = \"text-align: left;\">2024-12-01</td><td style = \"text-align: right;\">0</td><td style = \"text-align: right;\">0</td><td style = \"text-align: right;\">122</td></tr><tr><td style = \"text-align: right;\">&vellip;</td><td style = \"text-align: right;\">&vellip;</td><td style = \"text-align: right;\">&vellip;</td><td style = \"text-align: right;\">&vellip;</td><td style = \"text-align: right;\">&vellip;</td><td style = \"text-align: right;\">&vellip;</td></tr><tr><td class = \"rowNumber\" style = \"font-weight: bold; text-align: right;\">64</td><td style = \"text-align: left;\">Tester</td><td style = \"text-align: left;\">2025-01-01</td><td style = \"text-align: right;\">0</td><td style = \"text-align: right;\">0</td><td style = \"text-align: right;\">119</td></tr><tr><td class = \"rowNumber\" style = \"font-weight: bold; text-align: right;\">65</td><td style = \"text-align: left;\">Tester</td><td style = \"text-align: left;\">2025-02-01</td><td style = \"text-align: right;\">0</td><td style = \"text-align: right;\">0</td><td style = \"text-align: right;\">119</td></tr><tr><td class = \"rowNumber\" style = \"font-weight: bold; text-align: right;\">66</td><td style = \"text-align: left;\">Tester</td><td style = \"text-align: left;\">2025-03-01</td><td style = \"text-align: right;\">0</td><td style = \"text-align: right;\">0</td><td style = \"text-align: right;\">119</td></tr><tr><td class = \"rowNumber\" style = \"font-weight: bold; text-align: right;\">67</td><td style = \"text-align: left;\">Tester</td><td style = \"text-align: left;\">2025-04-01</td><td style = \"text-align: right;\">0</td><td style = \"text-align: right;\">0</td><td style = \"text-align: right;\">119</td></tr><tr><td class = \"rowNumber\" style = \"font-weight: bold; text-align: right;\">68</td><td style = \"text-align: left;\">Tester</td><td style = \"text-align: left;\">2025-05-01</td><td style = \"text-align: right;\">0</td><td style = \"text-align: right;\">0</td><td style = \"text-align: right;\">119</td></tr><tr><td class = \"rowNumber\" style = \"font-weight: bold; text-align: right;\">69</td><td style = \"text-align: left;\">Tester</td><td style = \"text-align: left;\">2025-06-01</td><td style = \"text-align: right;\">0</td><td style = \"text-align: right;\">0</td><td style = \"text-align: right;\">119</td></tr><tr><td class = \"rowNumber\" style = \"font-weight: bold; text-align: right;\">70</td><td style = \"text-align: left;\">Tester</td><td style = \"text-align: left;\">2025-07-01</td><td style = \"text-align: right;\">0</td><td style = \"text-align: right;\">0</td><td style = \"text-align: right;\">119</td></tr><tr><td class = \"rowNumber\" style = \"font-weight: bold; text-align: right;\">71</td><td style = \"text-align: left;\">Tester</td><td style = \"text-align: left;\">2025-08-01</td><td style = \"text-align: right;\">0</td><td style = \"text-align: right;\">0</td><td style = \"text-align: right;\">119</td></tr><tr><td class = \"rowNumber\" style = \"font-weight: bold; text-align: right;\">72</td><td style = \"text-align: left;\">Tester</td><td style = \"text-align: left;\">2025-09-01</td><td style = \"text-align: right;\">0</td><td style = \"text-align: right;\">0</td><td style = \"text-align: right;\">119</td></tr><tr><td class = \"rowNumber\" style = \"font-weight: bold; text-align: right;\">73</td><td style = \"text-align: left;\">Tester</td><td style = \"text-align: left;\">2025-10-01</td><td style = \"text-align: right;\">0</td><td style = \"text-align: right;\">0</td><td style = \"text-align: right;\">119</td></tr><tr><td class = \"rowNumber\" style = \"font-weight: bold; text-align: right;\">74</td><td style = \"text-align: left;\">Tester</td><td style = \"text-align: left;\">2025-11-01</td><td style = \"text-align: right;\">0</td><td style = \"text-align: right;\">0</td><td style = \"text-align: right;\">119</td></tr><tr><td class = \"rowNumber\" style = \"font-weight: bold; text-align: right;\">75</td><td style = \"text-align: left;\">Tester</td><td style = \"text-align: left;\">2025-12-01</td><td style = \"text-align: right;\">0</td><td style = \"text-align: right;\">0</td><td style = \"text-align: right;\">119</td></tr></tbody></table></div>"
      ],
      "text/latex": [
       "\\begin{tabular}{r|ccccc}\n",
       "\t& Worker\\_Type & Date & Workers\\_Fired & Workers\\_Hired & Worker\\_Level\\\\\n",
       "\t\\hline\n",
       "\t& Any & String & Int64 & Int64 & Int64\\\\\n",
       "\t\\hline\n",
       "\t1 & Assembler & 2023-12-01 & 0 & 0 & 42 \\\\\n",
       "\t2 & Assembler & 2024-01-01 & 0 & 80 & 122 \\\\\n",
       "\t3 & Assembler & 2024-02-01 & 0 & 0 & 122 \\\\\n",
       "\t4 & Assembler & 2024-03-01 & 0 & 0 & 122 \\\\\n",
       "\t5 & Assembler & 2024-04-01 & 0 & 0 & 122 \\\\\n",
       "\t6 & Assembler & 2024-05-01 & 0 & 0 & 122 \\\\\n",
       "\t7 & Assembler & 2024-06-01 & 0 & 0 & 122 \\\\\n",
       "\t8 & Assembler & 2024-07-01 & 0 & 0 & 122 \\\\\n",
       "\t9 & Assembler & 2024-08-01 & 0 & 0 & 122 \\\\\n",
       "\t10 & Assembler & 2024-09-01 & 0 & 0 & 122 \\\\\n",
       "\t11 & Assembler & 2024-10-01 & 0 & 0 & 122 \\\\\n",
       "\t12 & Assembler & 2024-11-01 & 0 & 0 & 122 \\\\\n",
       "\t13 & Assembler & 2024-12-01 & 0 & 0 & 122 \\\\\n",
       "\t14 & Assembler & 2025-01-01 & 0 & 0 & 122 \\\\\n",
       "\t15 & Assembler & 2025-02-01 & 0 & 0 & 122 \\\\\n",
       "\t16 & Assembler & 2025-03-01 & 0 & 0 & 122 \\\\\n",
       "\t17 & Assembler & 2025-04-01 & 0 & 0 & 122 \\\\\n",
       "\t18 & Assembler & 2025-05-01 & 0 & 0 & 122 \\\\\n",
       "\t19 & Assembler & 2025-06-01 & 0 & 0 & 122 \\\\\n",
       "\t20 & Assembler & 2025-07-01 & 0 & 0 & 122 \\\\\n",
       "\t21 & Assembler & 2025-08-01 & 0 & 0 & 122 \\\\\n",
       "\t22 & Assembler & 2025-09-01 & 0 & 0 & 122 \\\\\n",
       "\t23 & Assembler & 2025-10-01 & 0 & 0 & 122 \\\\\n",
       "\t24 & Assembler & 2025-11-01 & 0 & 0 & 122 \\\\\n",
       "\t25 & Assembler & 2025-12-01 & 0 & 0 & 122 \\\\\n",
       "\t26 & Packer & 2023-12-01 & 0 & 0 & 43 \\\\\n",
       "\t27 & Packer & 2024-01-01 & 0 & 72 & 115 \\\\\n",
       "\t28 & Packer & 2024-02-01 & 0 & 0 & 115 \\\\\n",
       "\t29 & Packer & 2024-03-01 & 0 & 0 & 115 \\\\\n",
       "\t30 & Packer & 2024-04-01 & 0 & 0 & 115 \\\\\n",
       "\t$\\dots$ & $\\dots$ & $\\dots$ & $\\dots$ & $\\dots$ & $\\dots$ \\\\\n",
       "\\end{tabular}\n"
      ],
      "text/plain": [
       "\u001b[1m75×5 DataFrame\u001b[0m\n",
       "\u001b[1m Row \u001b[0m│\u001b[1m Worker_Type \u001b[0m\u001b[1m Date       \u001b[0m\u001b[1m Workers_Fired \u001b[0m\u001b[1m Workers_Hired \u001b[0m\u001b[1m Worker_Level \u001b[0m\n",
       "     │\u001b[90m Any         \u001b[0m\u001b[90m String     \u001b[0m\u001b[90m Int64         \u001b[0m\u001b[90m Int64         \u001b[0m\u001b[90m Int64        \u001b[0m\n",
       "─────┼─────────────────────────────────────────────────────────────────────\n",
       "   1 │ Assembler    2023-12-01              0              0            42\n",
       "   2 │ Assembler    2024-01-01              0             80           122\n",
       "   3 │ Assembler    2024-02-01              0              0           122\n",
       "   4 │ Assembler    2024-03-01              0              0           122\n",
       "   5 │ Assembler    2024-04-01              0              0           122\n",
       "   6 │ Assembler    2024-05-01              0              0           122\n",
       "   7 │ Assembler    2024-06-01              0              0           122\n",
       "   8 │ Assembler    2024-07-01              0              0           122\n",
       "   9 │ Assembler    2024-08-01              0              0           122\n",
       "  10 │ Assembler    2024-09-01              0              0           122\n",
       "  11 │ Assembler    2024-10-01              0              0           122\n",
       "  ⋮  │      ⋮           ⋮             ⋮              ⋮             ⋮\n",
       "  66 │ Tester       2025-03-01              0              0           119\n",
       "  67 │ Tester       2025-04-01              0              0           119\n",
       "  68 │ Tester       2025-05-01              0              0           119\n",
       "  69 │ Tester       2025-06-01              0              0           119\n",
       "  70 │ Tester       2025-07-01              0              0           119\n",
       "  71 │ Tester       2025-08-01              0              0           119\n",
       "  72 │ Tester       2025-09-01              0              0           119\n",
       "  73 │ Tester       2025-10-01              0              0           119\n",
       "  74 │ Tester       2025-11-01              0              0           119\n",
       "  75 │ Tester       2025-12-01              0              0           119\n",
       "\u001b[36m                                                            54 rows omitted\u001b[0m"
      ]
     },
     "execution_count": 26,
     "metadata": {},
     "output_type": "execute_result"
    }
   ],
   "source": [
    "worker_df = DataFrame(\n",
    "    Worker_Type = repeat(worker_names, inner = time_horizon_T+1),\n",
    "    Date = repeat(date_list, outer = num_workertype_w),\n",
    "    Workers_Fired = collect(Iterators.flatten(eachrow(fired_F_round))),\n",
    "    Workers_Hired = collect(Iterators.flatten(eachrow(hired_H_round))),\n",
    "    Worker_Level = collect(Iterators.flatten(eachrow(aggregated_workerlevel_Wwt_round)))\n",
    ")"
   ]
  },
  {
   "cell_type": "code",
   "execution_count": 33,
   "metadata": {},
   "outputs": [
    {
     "name": "stdout",
     "output_type": "stream",
     "text": [
      "[119, 119, 119, 119, 119, 119, 119, 119, 119, 119, 119, 119, 119, 119, 119, 119, 119, 119, 119, 119, 119, 119, 119]\n",
      "[0, 0, 0, 0, 0, 0, 0, 0, 0, 0, 0, 0, 0, 0, 0, 0, 0, 0, 0, 0, 0, 0, 0]\n",
      "[0, 0, 0, 0, 0, 0, 0, 0, 0, 0, 0, 0, 0, 0, 0, 0, 0, 0, 0, 0, 0, 0, 0]\n",
      "\u001b[1m23×5 DataFrame\u001b[0m\n",
      "\u001b[1m Row \u001b[0m│\u001b[1m Worker_Type \u001b[0m\u001b[1m Date       \u001b[0m\u001b[1m Workers_Fired \u001b[0m\u001b[1m Workers_Hired \u001b[0m\u001b[1m Worker_Level \u001b[0m\n",
      "     │\u001b[90m Any         \u001b[0m\u001b[90m String     \u001b[0m\u001b[90m Int64         \u001b[0m\u001b[90m Int64         \u001b[0m\u001b[90m Int64        \u001b[0m\n",
      "─────┼─────────────────────────────────────────────────────────────────────\n",
      "   1 │ Tester       2024-02-01              0              0           119\n",
      "   2 │ Tester       2024-03-01              0              0           119\n",
      "   3 │ Tester       2024-04-01              0              0           119\n",
      "   4 │ Tester       2024-05-01              0              0           119\n",
      "   5 │ Tester       2024-06-01              0              0           119\n",
      "   6 │ Tester       2024-07-01              0              0           119\n",
      "   7 │ Tester       2024-08-01              0              0           119\n",
      "   8 │ Tester       2024-09-01              0              0           119\n",
      "   9 │ Tester       2024-10-01              0              0           119\n",
      "  10 │ Tester       2024-11-01              0              0           119\n",
      "  11 │ Tester       2024-12-01              0              0           119\n",
      "  12 │ Tester       2025-01-01              0              0           119\n",
      "  13 │ Tester       2025-02-01              0              0           119\n",
      "  14 │ Tester       2025-03-01              0              0           119\n",
      "  15 │ Tester       2025-04-01              0              0           119\n",
      "  16 │ Tester       2025-05-01              0              0           119\n",
      "  17 │ Tester       2025-06-01              0              0           119\n",
      "  18 │ Tester       2025-07-01              0              0           119\n",
      "  19 │ Tester       2025-08-01              0              0           119\n",
      "  20 │ Tester       2025-09-01              0              0           119\n",
      "  21 │ Tester       2025-10-01              0              0           119\n",
      "  22 │ Tester       2025-11-01              0              0           119\n",
      "  23 │ Tester       2025-12-01              0              0           119\n"
     ]
    }
   ],
   "source": [
    "#for worker graph\n",
    "\n",
    "selected_worker = \"Tester\" \n",
    "start_date = \"2024-01-30\"\n",
    "end_date = \"2026-04-02\"\n",
    "worker_df_copy = copy(worker_df)\n",
    "filter_worker_df = filter!(row -> row.Worker_Type == selected_worker &&  start_date <= row.Date <= end_date, worker_df_copy)\n",
    "workerlevel_plot = filter_worker_df.Worker_Level\n",
    "hired_plot = filter_worker_df.Workers_Hired\n",
    "fired_plot = filter_worker_df.Workers_Fired \n",
    "println(workerlevel_plot)\n",
    "println(fired_plot)\n",
    "println(hired_plot)\n",
    "println(filter_worker_df)"
   ]
  }
 ],
 "metadata": {
  "kernelspec": {
   "display_name": "Julia 1.10.4",
   "language": "julia",
   "name": "julia-1.10"
  },
  "language_info": {
   "file_extension": ".jl",
   "mimetype": "application/julia",
   "name": "julia",
   "version": "1.10.4"
  }
 },
 "nbformat": 4,
 "nbformat_minor": 2
}
