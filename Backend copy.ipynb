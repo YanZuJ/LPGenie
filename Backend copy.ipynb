{
 "cells": [
  {
   "cell_type": "code",
   "execution_count": 20,
   "id": "186eaf7a",
   "metadata": {},
   "outputs": [
    {
     "name": "stderr",
     "output_type": "stream",
     "text": [
      "\u001b[32m\u001b[1m   Resolving\u001b[22m\u001b[39m package versions...\n",
      "\u001b[32m\u001b[1m  No Changes\u001b[22m\u001b[39m to `~/.julia/environments/v1.10/Project.toml`\n",
      "\u001b[32m\u001b[1m  No Changes\u001b[22m\u001b[39m to `~/.julia/environments/v1.10/Manifest.toml`\n"
     ]
    }
   ],
   "source": [
    "using JuMP\n",
    "import Pkg\n",
    "Pkg.add(\"Gurobi\")\n",
    "import Gurobi\n",
    "using CSV, DataFrames\n",
    "using Random\n",
    "import Test\n"
   ]
  },
  {
   "cell_type": "code",
   "execution_count": 21,
   "id": "7e365391",
   "metadata": {},
   "outputs": [
    {
     "data": {
      "text/html": [
       "<div><div style = \"float: left;\"><span>6×5 DataFrame</span></div><div style = \"clear: both;\"></div></div><div class = \"data-frame\" style = \"overflow-x: scroll;\"><table class = \"data-frame\" style = \"margin-bottom: 6px;\"><thead><tr class = \"header\"><th class = \"rowNumber\" style = \"font-weight: bold; text-align: right;\">Row</th><th style = \"text-align: left;\">Column1</th><th style = \"text-align: left;\">XC60_Gent</th><th style = \"text-align: left;\">XC60_China</th><th style = \"text-align: left;\">Kuga</th><th style = \"text-align: left;\">Mondeo</th></tr><tr class = \"subheader headerLastRow\"><th class = \"rowNumber\" style = \"font-weight: bold; text-align: right;\"></th><th title = \"String15\" style = \"text-align: left;\">String15</th><th title = \"Float64\" style = \"text-align: left;\">Float64</th><th title = \"Float64\" style = \"text-align: left;\">Float64</th><th title = \"Float64\" style = \"text-align: left;\">Float64</th><th title = \"Float64\" style = \"text-align: left;\">Float64</th></tr></thead><tbody><tr><td class = \"rowNumber\" style = \"font-weight: bold; text-align: right;\">1</td><td style = \"text-align: left;\">machine 1</td><td style = \"text-align: right;\">0.0204601</td><td style = \"text-align: right;\">0.0293755</td><td style = \"text-align: right;\">0.0236603</td><td style = \"text-align: right;\">0.0276006</td></tr><tr><td class = \"rowNumber\" style = \"font-weight: bold; text-align: right;\">2</td><td style = \"text-align: left;\">mahicne 2</td><td style = \"text-align: right;\">0.0260603</td><td style = \"text-align: right;\">0.0251784</td><td style = \"text-align: right;\">0.027873</td><td style = \"text-align: right;\">0.0</td></tr><tr><td class = \"rowNumber\" style = \"font-weight: bold; text-align: right;\">3</td><td style = \"text-align: left;\">machine 3</td><td style = \"text-align: right;\">0.0230815</td><td style = \"text-align: right;\">0.0267955</td><td style = \"text-align: right;\">0.0224861</td><td style = \"text-align: right;\">0.0285837</td></tr><tr><td class = \"rowNumber\" style = \"font-weight: bold; text-align: right;\">4</td><td style = \"text-align: left;\">machine 4</td><td style = \"text-align: right;\">0.0210469</td><td style = \"text-align: right;\">0.0</td><td style = \"text-align: right;\">0.0281093</td><td style = \"text-align: right;\">0.024199</td></tr><tr><td class = \"rowNumber\" style = \"font-weight: bold; text-align: right;\">5</td><td style = \"text-align: left;\">machine 5</td><td style = \"text-align: right;\">0.0284882</td><td style = \"text-align: right;\">0.0310221</td><td style = \"text-align: right;\">0.024909</td><td style = \"text-align: right;\">0.0279759</td></tr><tr><td class = \"rowNumber\" style = \"font-weight: bold; text-align: right;\">6</td><td style = \"text-align: left;\">machine 6</td><td style = \"text-align: right;\">0.024501</td><td style = \"text-align: right;\">0.0278305</td><td style = \"text-align: right;\">0.0256556</td><td style = \"text-align: right;\">0.0316377</td></tr></tbody></table></div>"
      ],
      "text/latex": [
       "\\begin{tabular}{r|ccccc}\n",
       "\t& Column1 & XC60\\_Gent & XC60\\_China & Kuga & Mondeo\\\\\n",
       "\t\\hline\n",
       "\t& String15 & Float64 & Float64 & Float64 & Float64\\\\\n",
       "\t\\hline\n",
       "\t1 & machine 1 & 0.0204601 & 0.0293755 & 0.0236603 & 0.0276006 \\\\\n",
       "\t2 & mahicne 2 & 0.0260603 & 0.0251784 & 0.027873 & 0.0 \\\\\n",
       "\t3 & machine 3 & 0.0230815 & 0.0267955 & 0.0224861 & 0.0285837 \\\\\n",
       "\t4 & machine 4 & 0.0210469 & 0.0 & 0.0281093 & 0.024199 \\\\\n",
       "\t5 & machine 5 & 0.0284882 & 0.0310221 & 0.024909 & 0.0279759 \\\\\n",
       "\t6 & machine 6 & 0.024501 & 0.0278305 & 0.0256556 & 0.0316377 \\\\\n",
       "\\end{tabular}\n"
      ],
      "text/plain": [
       "\u001b[1m6×5 DataFrame\u001b[0m\n",
       "\u001b[1m Row \u001b[0m│\u001b[1m Column1   \u001b[0m\u001b[1m XC60_Gent \u001b[0m\u001b[1m XC60_China \u001b[0m\u001b[1m Kuga      \u001b[0m\u001b[1m Mondeo    \u001b[0m\n",
       "     │\u001b[90m String15  \u001b[0m\u001b[90m Float64   \u001b[0m\u001b[90m Float64    \u001b[0m\u001b[90m Float64   \u001b[0m\u001b[90m Float64   \u001b[0m\n",
       "─────┼────────────────────────────────────────────────────────\n",
       "   1 │ machine 1  0.0204601   0.0293755  0.0236603  0.0276006\n",
       "   2 │ mahicne 2  0.0260603   0.0251784  0.027873   0.0\n",
       "   3 │ machine 3  0.0230815   0.0267955  0.0224861  0.0285837\n",
       "   4 │ machine 4  0.0210469   0.0        0.0281093  0.024199\n",
       "   5 │ machine 5  0.0284882   0.0310221  0.024909   0.0279759\n",
       "   6 │ machine 6  0.024501    0.0278305  0.0256556  0.0316377"
      ]
     },
     "metadata": {},
     "output_type": "display_data"
    }
   ],
   "source": [
    "data = CSV.read(\"RoofDummyData.csv\",DataFrame)\n",
    "data\n",
    "#nrow(data) = 24\n",
    "#ncol(data) = 5\n",
    "data1= CSV.read(\"/Users/axgelx/MSO ESA prj/mso/dummydata1.csv\",DataFrame)\n",
    "data1\n",
    "#nrow(data1)=6\n",
    "#ncol(data1)=5\n",
    "\n"
   ]
  },
  {
   "cell_type": "code",
   "execution_count": 15,
   "id": "41c5356a",
   "metadata": {},
   "outputs": [
    {
     "name": "stdout",
     "output_type": "stream",
     "text": [
      "[\"XC60_Gent\", \"XC60_China\", \"Kuga\", \"Mondeo\"]\n",
      "Any[[5668, 3916, 5312, 6720, 4092, 3108, 4656, 4772, 3408, 2936, 8284, 4516], [5952, 3744, 1552, 3032, 2372, 2292, 1568, 612, 3988, 2540, 6680, 3260], [2012, 2128, 2632, 1740, 1540, 2292, 2920, 3256, 2288, 2424, 2228, 2660], [924, 800, 964, 768, 648, 848, 828, 764, 720, 448, 700, 568]]\n",
      "Any[21, 22, 20, 23, 21, 21, 23, 23, 21, 22, 22, 22]\n",
      "Any[10, 10, 11, 12]\n",
      "Any[[0.020460072, 0.026060266, 0.023081476, 0.021046905, 0.028488239, 0.024500974], [0.029375538, 0.02517837, 0.026795545, 0.0, 0.031022069, 0.02783053], [0.023660263, 0.027872984, 0.022486077, 0.028109273, 0.024908955, 0.025655647], [0.027600623, 0.0, 0.028583745, 0.024199002, 0.027975851, 0.031637681]]\n"
     ]
    }
   ],
   "source": [
    "Random.seed!(1234) # set seed\n",
    "\n",
    "num_products_p = ncol(data) - 1  #to not include the time columnindex\n",
    "time_horizon_T = nrow(data)\n",
    "product_names = names(data)[2:end]\n",
    "num_machines_M=nrow(data1)\n",
    "println(product_names)\n",
    "\n",
    "#Initialise demand\n",
    "demand_D = [] #Initialise \n",
    "for col in 2:ncol(data) #Extract each column as a seperate array and store it\n",
    "    push!(demand_D, data[:,col])\n",
    "end\n",
    "println(demand_D)\n",
    "\n",
    "#Initialise workdays \n",
    "workdays_n = [] #Initialise \n",
    "for row in 1:time_horizon_T\n",
    "    push!(workdays_n, rand(20:23)) #push a random workday value between 20 to 23\n",
    "end\n",
    "println(workdays_n)\n",
    "\n",
    "#Initialise productivity\n",
    "productivity_K = [] \n",
    "for col in 2:ncol(data)\n",
    "    push!(productivity_K, rand(10:12))\n",
    "end    \n",
    "println(productivity_K)\n",
    "\n",
    "# Initialise Costs\n",
    "cost_hiring_cH = 5882.60    # Hiring cost per worker\n",
    "cost_firing_cF = 857.23    # Firing cost per worker\n",
    "cost_inventory_cI = 9.05 # Inventory holding cost per unit\n",
    "cost_labour_cR = 233.30  # Cost of Labour per production unit\n",
    "cost_overtime_cO = 349.89 # Cost of Overtime per overtime unit\n",
    "cost_backlogging_cB = 135.31  #Cost of Backlogging per overtime unit \n",
    "\n",
    "#Initialise time taken\n",
    "timetaken_τ=[]\n",
    "for col in 2:ncol(data1)\n",
    "    push!(timetaken_τ, data1[:,col])\n",
    "end\n",
    "println(timetaken_τ)\n",
    "\n",
    "#code ends here"
   ]
  },
  {
   "cell_type": "code",
   "execution_count": 61,
   "id": "6928009c",
   "metadata": {},
   "outputs": [
    {
     "name": "stdout",
     "output_type": "stream",
     "text": [
      "Set parameter Username\n",
      "Academic license - for non-commercial use only - expires 2025-07-05\n",
      "Gurobi Optimizer version 11.0.2 build v11.0.2rc0 (mac64[arm] - Darwin 22.6.0 22G91)\n",
      "\n",
      "CPU model: Apple M2\n",
      "Thread count: 8 physical cores, 8 logical processors, using up to 8 threads\n",
      "\n",
      "Optimize a model with 192 rows, 336 columns and 612 nonzeros\n",
      "Model fingerprint: 0xd301ee74\n",
      "Coefficient statistics:\n",
      "  Matrix range     [1e-01, 3e+02]\n",
      "  Objective range  [9e+00, 6e+03]\n",
      "  Bounds range     [0e+00, 0e+00]\n",
      "  RHS range        [4e+02, 8e+03]\n",
      "Presolve removed 100 rows and 144 columns\n",
      "Presolve time: 0.00s\n",
      "Presolved: 92 rows, 192 columns, 608 nonzeros\n",
      "\n",
      "Iteration    Objective       Primal Inf.    Dual Inf.      Time\n",
      "       0   -1.6166818e+35   8.843725e+31   1.616682e+05      0s\n",
      "     129    3.0473986e+07   0.000000e+00   0.000000e+00      0s\n",
      "\n",
      "Solved in 129 iterations and 0.00 seconds (0.00 work units)\n",
      "Optimal objective  3.047398650e+07\n",
      "\n",
      "User-callback calls 209, time in user-callback 0.00 sec\n",
      "Objective value: 3.0473986497436203e7\n",
      "Workers: [27 25 25 25 19 19 19 19 23 23 23 0; 28 17 11 11 11 11 11 11 16 16 16 0; 10 10 10 8 8 8 12 12 10 10 9 0; 4 3 4 3 3 3 3 3 3 2 2 0]\n",
      "Hired: [27 0 0 0 0 0 0 0 4 0 0 0; 28 0 0 0 0 0 0 0 5 0 0 0; 10 0 0 0 0 0 4 0 0 0 0 0; 4 0 0 0 0 0 0 0 0 0 0 0]\n",
      "Fired: [0 2 0 0 5 1 0 0 0 0 0 23; 0 11 6 0 0 0 0 0 0 0 0 16; 0 0 0 2 0 0 0 0 2 0 1 9; 0 0 0 1 0 0 0 0 0 1 0 2]\n",
      "Inventory: [0 1482 1077 0 0 821 469 0 1318 3333 0 0; 0 0 624 94 7 0 934 2825 2191 3166 0 0; 245 482 0 232 492 0 168 0 13 0 0 0; 0 124 0 40 130 20 0 12 0 126 0 0]\n",
      "Production: [5668 5398 4907 5643 4092 3929 4303 4303 4726 4951 4951 0; 5952 3744 2176 2502 2285 2285 2502 2502 3355 3514 3514 0; 2257 2365 2150 1972 1800 1800 3088 3088 2301 2411 2228 0; 924 924 840 808 738 738 808 776 708 574 574 0]\n",
      "Overtime: [0 0 0 0 0 0 0 0 0 0 0 0; 0 0 0 0 0 0 0 0 0 0 0 0; 0 0 0 0 0 0 0 0 0 0 0 0; 0 0 0 0 0 0 0 0 0 0 0 0]\n",
      "Backlogging: [0 0 0 0 0 0 0 0 0 0 0 4516; 0 0 0 0 0 0 0 0 0 0 0 3260; 0 0 0 0 0 0 0 0 0 0 0 2660; 0 0 0 0 0 0 0 0 0 0 0 568]\n"
     ]
    },
    {
     "ename": "Base.Meta.ParseError",
     "evalue": "ParseError:\n# Error @ /Users/axgelx/MSO ESA prj/Backend.ipynb:64:1\nprintln(\"Backlogging: \", round.(Int,value.(backlogging_B)))\nend\n└─┘ ── invalid identifier",
     "output_type": "error",
     "traceback": [
      "ParseError:\n",
      "# Error @ /Users/axgelx/MSO ESA prj/Backend.ipynb:64:1\n",
      "println(\"Backlogging: \", round.(Int,value.(backlogging_B)))\n",
      "end\n",
      "└─┘ ── invalid identifier\n",
      "\n",
      "Stacktrace:\n",
      " [1] top-level scope\n",
      "   @ ~/MSO ESA prj/Backend.ipynb:64"
     ]
    }
   ],
   "source": [
    "# Initialize the model\n",
    "model = Model(Gurobi.Optimizer)\n",
    "\n",
    "# Variables\n",
    "@variable(model, workerlevel_W[1:num_products_p,1:time_horizon_T] >= 0)       # Workers\n",
    "@variable(model, hired_H[1:num_products_p,1:time_horizon_T] >= 0)       # Hired workers\n",
    "@variable(model, fired_F[1:num_products_p,1:time_horizon_T] >= 0)       # Fired workers\n",
    "@variable(model, inventory_I[1:num_products_p,1:time_horizon_T] >= 0)       # Inventory as integer variables\n",
    "@variable(model, production_P[1:num_products_p,1:time_horizon_T] >= 0)       # Production\n",
    "@variable(model, overtime_O[1:num_products_p,1:time_horizon_T] >= 0)       # Overtime\n",
    "@variable(model, backlogging_B[1:num_products_p,1:time_horizon_T] >= 0)        # Production\n",
    "\n",
    "# Objective function: Minimize total cost\n",
    "@objective(model, Min, sum(cost_hiring_cH*hired_H + cost_firing_cF*fired_F \n",
    "+ cost_inventory_cI*inventory_I + cost_labour_cR*production_P \n",
    "+ cost_overtime_cO*overtime_O + cost_backlogging_cB*backlogging_B))\n",
    "\n",
    "# Constraints\n",
    "\n",
    "#only for period 1, W annd I-B eqns\n",
    "for p in 1:num_products_p\n",
    "    @constraint(model, workerlevel_W[p,1] == hired_H[p,1] - fired_F[p,1])\n",
    "    @constraint(model, inventory_I[p,1] - backlogging_B[p,1] == production_P[p,1] - demand_D[p][1])\n",
    "end    \n",
    "\n",
    "#P equations\n",
    "for p in 1:num_products_p\n",
    "    for t in 2:time_horizon_T\n",
    "        @constraint(model, workerlevel_W[p,t] \n",
    "        == workerlevel_W[p,t-1] + hired_H[p,t] - fired_F[p,t])\n",
    "        @constraint(model, inventory_I[p,t] - backlogging_B[p,t] \n",
    "        == inventory_I[p,t-1] - backlogging_B[p,t-1] \n",
    "        + production_P[p,t] - demand_D[p][t])\n",
    "    end\n",
    "end\n",
    "\n",
    "#for rest of period, W and I-B equations\n",
    "for p in 1:num_products_p\n",
    "    for t in 1:time_horizon_T\n",
    "        @constraint(model, production_P[p,t] \n",
    "        == productivity_K[p] * workdays_n[t] * workerlevel_W[p,t])\n",
    "    \n",
    "        total_time_taken = 0.0\n",
    "        for m in 1:num_machines_M\n",
    "            total_time_taken += timetaken_τ[p][m] * production_P[p, t]\n",
    "        end\n",
    "        @constraint(model, total_time_taken <= workerlevel_W[p, t] * workdays_n[t] * 8)\n",
    "        #hired_H\n",
    "    end    \n",
    "end\n",
    "\n",
    "\n",
    "# Solve the model\n",
    "optimize!(model)\n",
    "\n",
    "#retrieve Values\n",
    "println(\"Objective value: \", objective_value(model))\n",
    "println(\"Workers: \", round.(Int,value.(workerlevel_W)))\n",
    "println(\"Hired: \", round.(Int,value.(hired_H)))\n",
    "println(\"Fired: \", round.(Int,value.(fired_F)))\n",
    "println(\"Inventory: \", round.(Int,value.(inventory_I)))\n",
    "println(\"Production: \", round.(Int,value.(production_P)))\n",
    "println(\"Overtime: \", round.(Int,value.(overtime_O)))\n",
    "println(\"Backlogging: \", round.(Int,value.(backlogging_B)))\n",
    "end"
   ]
  },
  {
   "cell_type": "code",
   "execution_count": null,
   "id": "87237692",
   "metadata": {},
   "outputs": [],
   "source": []
  }
 ],
 "metadata": {
  "kernelspec": {
   "display_name": "Julia 1.10.0",
   "language": "julia",
   "name": "julia-1.10"
  },
  "language_info": {
   "file_extension": ".jl",
   "mimetype": "application/julia",
   "name": "julia",
   "version": "1.10.0"
  }
 },
 "nbformat": 4,
 "nbformat_minor": 5
}
